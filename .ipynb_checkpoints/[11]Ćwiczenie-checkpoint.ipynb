{
 "cells": [
  {
   "cell_type": "code",
   "execution_count": 1,
   "id": "2bea8e96",
   "metadata": {},
   "outputs": [],
   "source": [
    "import pandas as pd\n",
    "import numpy as np\n",
    "import matplotlib.pyplot as plt\n",
    "import math as math"
   ]
  },
  {
   "cell_type": "code",
   "execution_count": 5,
   "id": "d182472e",
   "metadata": {},
   "outputs": [
    {
     "data": {
      "text/plain": [
       "2        113750.000000\n",
       "14       100000.000000\n",
       "17       130000.000000\n",
       "18        82500.000000\n",
       "22       100764.000000\n",
       "             ...      \n",
       "51371     74193.548387\n",
       "51378    107526.881720\n",
       "51382     32258.064516\n",
       "51387     58000.000000\n",
       "51390     40000.000000\n",
       "Name: Salary, Length: 12891, dtype: float64"
      ]
     },
     "execution_count": 5,
     "metadata": {},
     "output_type": "execute_result"
    }
   ],
   "source": [
    "salary=pd.read_csv(\"./data/StackOverflowDeveloperSurvey.csv\",usecols=[\"Salary\"],squeeze=True).dropna()\n",
    "salary"
   ]
  },
  {
   "cell_type": "code",
   "execution_count": 6,
   "id": "4feee0cb",
   "metadata": {},
   "outputs": [
    {
     "data": {
      "text/plain": [
       "2     113750.0\n",
       "14    100000.0\n",
       "17    130000.0\n",
       "18     82500.0\n",
       "22    100764.0\n",
       "Name: Salary, dtype: float64"
      ]
     },
     "execution_count": 6,
     "metadata": {},
     "output_type": "execute_result"
    }
   ],
   "source": [
    "salary.head(5)"
   ]
  },
  {
   "cell_type": "code",
   "execution_count": 7,
   "id": "3f6afe9f",
   "metadata": {},
   "outputs": [
    {
     "data": {
      "text/plain": [
       "12891"
      ]
     },
     "execution_count": 7,
     "metadata": {},
     "output_type": "execute_result"
    }
   ],
   "source": [
    "len(salary)\n",
    "#ile ludzi podało"
   ]
  },
  {
   "cell_type": "code",
   "execution_count": 10,
   "id": "fa8c5fc5",
   "metadata": {},
   "outputs": [
    {
     "name": "stdout",
     "output_type": "stream",
     "text": [
      "0.0\n",
      "197000.0\n"
     ]
    }
   ],
   "source": [
    "print(min(salary))\n",
    "#najmniejsze\n",
    "print(max(salary))\n",
    "#max"
   ]
  },
  {
   "cell_type": "code",
   "execution_count": 11,
   "id": "563bd557",
   "metadata": {},
   "outputs": [
    {
     "data": {
      "text/plain": [
       "[113750.0, 100000.0, 130000.0, 82500.0, 100764.0]"
      ]
     },
     "execution_count": 11,
     "metadata": {},
     "output_type": "execute_result"
    }
   ],
   "source": [
    "list(salary.head())"
   ]
  },
  {
   "cell_type": "code",
   "execution_count": 12,
   "id": "67115150",
   "metadata": {},
   "outputs": [
    {
     "data": {
      "text/plain": [
       "{2: 113750.0, 14: 100000.0, 17: 130000.0, 18: 82500.0, 22: 100764.0}"
      ]
     },
     "execution_count": 12,
     "metadata": {},
     "output_type": "execute_result"
    }
   ],
   "source": [
    "dict(salary.head())"
   ]
  },
  {
   "cell_type": "code",
   "execution_count": 13,
   "id": "4567ec70",
   "metadata": {},
   "outputs": [],
   "source": [
    "listSalarySorted=sorted(salary,reverse=True)"
   ]
  },
  {
   "cell_type": "code",
   "execution_count": 16,
   "id": "b3aa44ec",
   "metadata": {},
   "outputs": [
    {
     "data": {
      "text/plain": [
       "[197000.0, 195000.0, 195000.0, 195000.0, 195000.0]"
      ]
     },
     "execution_count": 16,
     "metadata": {},
     "output_type": "execute_result"
    }
   ],
   "source": [
    "listSalarySorted[0:5]"
   ]
  },
  {
   "cell_type": "code",
   "execution_count": 17,
   "id": "4af05630",
   "metadata": {},
   "outputs": [
    {
     "data": {
      "text/plain": [
       "2     113750.0\n",
       "14    100000.0\n",
       "17    130000.0\n",
       "18     82500.0\n",
       "22    100764.0\n",
       "Name: Salary of a person, dtype: float64"
      ]
     },
     "execution_count": 17,
     "metadata": {},
     "output_type": "execute_result"
    }
   ],
   "source": [
    "salary.name=\"Salary of a person\"\n",
    "salary.head()"
   ]
  },
  {
   "cell_type": "code",
   "execution_count": null,
   "id": "d043cb93",
   "metadata": {},
   "outputs": [],
   "source": []
  }
 ],
 "metadata": {
  "kernelspec": {
   "display_name": "Python 3",
   "language": "python",
   "name": "python3"
  },
  "language_info": {
   "codemirror_mode": {
    "name": "ipython",
    "version": 3
   },
   "file_extension": ".py",
   "mimetype": "text/x-python",
   "name": "python",
   "nbconvert_exporter": "python",
   "pygments_lexer": "ipython3",
   "version": "3.8.8"
  }
 },
 "nbformat": 4,
 "nbformat_minor": 5
}
