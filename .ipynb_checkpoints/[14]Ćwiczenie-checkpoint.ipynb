{
 "cells": [
  {
   "cell_type": "code",
   "execution_count": 3,
   "id": "a70153e1",
   "metadata": {},
   "outputs": [
    {
     "data": {
      "text/plain": [
       "0                         NaN\n",
       "1          20 to 99 employees\n",
       "2    10,000 or more employees\n",
       "3    10,000 or more employees\n",
       "4          10 to 19 employees\n",
       "Name: CompanySize, dtype: object"
      ]
     },
     "execution_count": 3,
     "metadata": {},
     "output_type": "execute_result"
    }
   ],
   "source": [
    "import pandas as pd\n",
    "import numpy as np\n",
    "import matplotlib.pyplot as plt\n",
    "import math as math\n",
    "\n",
    "surveys=pd.read_csv(\"./data/StackOverflowDeveloperSurvey.csv\",usecols=[\"CompanySize\"],squeeze=True)\n",
    "surveys.head()"
   ]
  },
  {
   "cell_type": "code",
   "execution_count": 4,
   "id": "69bd9b8c",
   "metadata": {},
   "outputs": [
    {
     "data": {
      "text/plain": [
       "'10,000 or more employees'"
      ]
     },
     "execution_count": 4,
     "metadata": {},
     "output_type": "execute_result"
    }
   ],
   "source": [
    "surveys[3]"
   ]
  },
  {
   "cell_type": "code",
   "execution_count": 5,
   "id": "dc9e252c",
   "metadata": {},
   "outputs": [
    {
     "data": {
      "text/plain": [
       "1           20 to 99 employees\n",
       "2     10,000 or more employees\n",
       "3     10,000 or more employees\n",
       "4           10 to 19 employees\n",
       "5                          NaN\n",
       "6           20 to 99 employees\n",
       "7      Fewer than 10 employees\n",
       "8     5,000 to 9,999 employees\n",
       "9                          NaN\n",
       "10        100 to 499 employees\n",
       "Name: CompanySize, dtype: object"
      ]
     },
     "execution_count": 5,
     "metadata": {},
     "output_type": "execute_result"
    }
   ],
   "source": [
    "surveys[1:11]"
   ]
  },
  {
   "cell_type": "code",
   "execution_count": 6,
   "id": "99dfa51a",
   "metadata": {},
   "outputs": [
    {
     "data": {
      "text/plain": [
       "'20 to 99 employees'"
      ]
     },
     "execution_count": 6,
     "metadata": {},
     "output_type": "execute_result"
    }
   ],
   "source": [
    "surveys[12345]"
   ]
  },
  {
   "cell_type": "code",
   "execution_count": 7,
   "id": "54791cf2",
   "metadata": {},
   "outputs": [
    {
     "data": {
      "text/plain": [
       "12341                         NaN\n",
       "12342    1,000 to 4,999 employees\n",
       "12343    10,000 or more employees\n",
       "12344        100 to 499 employees\n",
       "12345          20 to 99 employees\n",
       "12346                         NaN\n",
       "12347     Fewer than 10 employees\n",
       "12348          20 to 99 employees\n",
       "12349          20 to 99 employees\n",
       "12350          20 to 99 employees\n",
       "Name: CompanySize, dtype: object"
      ]
     },
     "execution_count": 7,
     "metadata": {},
     "output_type": "execute_result"
    }
   ],
   "source": [
    "surveys[12341:12351]"
   ]
  },
  {
   "cell_type": "code",
   "execution_count": 8,
   "id": "6318cc25",
   "metadata": {},
   "outputs": [],
   "source": [
    "surveys.sort_values(inplace=True)"
   ]
  },
  {
   "cell_type": "code",
   "execution_count": 9,
   "id": "39dc74a9",
   "metadata": {},
   "outputs": [
    {
     "data": {
      "text/plain": [
       "'10,000 or more employees'"
      ]
     },
     "execution_count": 9,
     "metadata": {},
     "output_type": "execute_result"
    }
   ],
   "source": [
    "surveys[3]"
   ]
  },
  {
   "cell_type": "code",
   "execution_count": 10,
   "id": "91a2933e",
   "metadata": {},
   "outputs": [
    {
     "data": {
      "text/plain": [
       "36683    1,000 to 4,999 employees\n",
       "43105    1,000 to 4,999 employees\n",
       "43102    1,000 to 4,999 employees\n",
       "30582    1,000 to 4,999 employees\n",
       "43072    1,000 to 4,999 employees\n",
       "43063    1,000 to 4,999 employees\n",
       "23955    1,000 to 4,999 employees\n",
       "43060    1,000 to 4,999 employees\n",
       "43056    1,000 to 4,999 employees\n",
       "30558    1,000 to 4,999 employees\n",
       "Name: CompanySize, dtype: object"
      ]
     },
     "execution_count": 10,
     "metadata": {},
     "output_type": "execute_result"
    }
   ],
   "source": [
    "surveys[1:11]"
   ]
  },
  {
   "cell_type": "code",
   "execution_count": 11,
   "id": "4d030671",
   "metadata": {},
   "outputs": [
    {
     "data": {
      "text/plain": [
       "'20 to 99 employees'"
      ]
     },
     "execution_count": 11,
     "metadata": {},
     "output_type": "execute_result"
    }
   ],
   "source": [
    "surveys[12345]"
   ]
  },
  {
   "cell_type": "code",
   "execution_count": 12,
   "id": "d5e408b4",
   "metadata": {},
   "outputs": [
    {
     "data": {
      "text/plain": [
       "14554    10,000 or more employees\n",
       "9429     10,000 or more employees\n",
       "6384     10,000 or more employees\n",
       "1102     10,000 or more employees\n",
       "14549    10,000 or more employees\n",
       "14547    10,000 or more employees\n",
       "14570    10,000 or more employees\n",
       "14575    10,000 or more employees\n",
       "6410     10,000 or more employees\n",
       "14576    10,000 or more employees\n",
       "Name: CompanySize, dtype: object"
      ]
     },
     "execution_count": 12,
     "metadata": {},
     "output_type": "execute_result"
    }
   ],
   "source": [
    "surveys[12341:12351]"
   ]
  },
  {
   "cell_type": "code",
   "execution_count": 13,
   "id": "02a29267",
   "metadata": {},
   "outputs": [],
   "source": [
    "surveys.reset_index(drop=True,inplace=True)"
   ]
  },
  {
   "cell_type": "code",
   "execution_count": 14,
   "id": "da7c713d",
   "metadata": {},
   "outputs": [
    {
     "data": {
      "text/plain": [
       "'1,000 to 4,999 employees'"
      ]
     },
     "execution_count": 14,
     "metadata": {},
     "output_type": "execute_result"
    }
   ],
   "source": [
    "surveys[3]"
   ]
  },
  {
   "cell_type": "code",
   "execution_count": 15,
   "id": "f04fd402",
   "metadata": {},
   "outputs": [
    {
     "data": {
      "text/plain": [
       "1     1,000 to 4,999 employees\n",
       "2     1,000 to 4,999 employees\n",
       "3     1,000 to 4,999 employees\n",
       "4     1,000 to 4,999 employees\n",
       "5     1,000 to 4,999 employees\n",
       "6     1,000 to 4,999 employees\n",
       "7     1,000 to 4,999 employees\n",
       "8     1,000 to 4,999 employees\n",
       "9     1,000 to 4,999 employees\n",
       "10    1,000 to 4,999 employees\n",
       "Name: CompanySize, dtype: object"
      ]
     },
     "execution_count": 15,
     "metadata": {},
     "output_type": "execute_result"
    }
   ],
   "source": [
    "surveys[1:11]"
   ]
  },
  {
   "cell_type": "code",
   "execution_count": 16,
   "id": "71f3ff99",
   "metadata": {},
   "outputs": [
    {
     "data": {
      "text/plain": [
       "'10,000 or more employees'"
      ]
     },
     "execution_count": 16,
     "metadata": {},
     "output_type": "execute_result"
    }
   ],
   "source": [
    "surveys[12345]"
   ]
  },
  {
   "cell_type": "code",
   "execution_count": 17,
   "id": "f34b8bd4",
   "metadata": {},
   "outputs": [
    {
     "data": {
      "text/plain": [
       "12341    10,000 or more employees\n",
       "12342    10,000 or more employees\n",
       "12343    10,000 or more employees\n",
       "12344    10,000 or more employees\n",
       "12345    10,000 or more employees\n",
       "12346    10,000 or more employees\n",
       "12347    10,000 or more employees\n",
       "12348    10,000 or more employees\n",
       "12349    10,000 or more employees\n",
       "12350    10,000 or more employees\n",
       "Name: CompanySize, dtype: object"
      ]
     },
     "execution_count": 17,
     "metadata": {},
     "output_type": "execute_result"
    }
   ],
   "source": [
    "surveys[12341:12351]"
   ]
  },
  {
   "cell_type": "code",
   "execution_count": null,
   "id": "b137ec96",
   "metadata": {},
   "outputs": [],
   "source": []
  }
 ],
 "metadata": {
  "kernelspec": {
   "display_name": "Python 3",
   "language": "python",
   "name": "python3"
  },
  "language_info": {
   "codemirror_mode": {
    "name": "ipython",
    "version": 3
   },
   "file_extension": ".py",
   "mimetype": "text/x-python",
   "name": "python",
   "nbconvert_exporter": "python",
   "pygments_lexer": "ipython3",
   "version": "3.8.8"
  }
 },
 "nbformat": 4,
 "nbformat_minor": 5
}
