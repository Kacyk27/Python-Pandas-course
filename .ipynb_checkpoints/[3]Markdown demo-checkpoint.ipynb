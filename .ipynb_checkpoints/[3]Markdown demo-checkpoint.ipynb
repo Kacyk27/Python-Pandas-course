{
 "cells": [
  {
   "cell_type": "markdown",
   "metadata": {},
   "source": [
    "# Important modules in Data Analysis with Python\n",
    "## Pandas\n",
    "\n",
    "![LogoPandas](./pandas.jpg)\n",
    "tekst opisujący... *open source* gwiazdki pochylają i wyróżniają, a tearz **open source**\n",
    "_abc_ __abc__ podkreslenia dzialaja identycznie\n",
    "[Nawias kwadratowy to odnośnik np do yt](https://www.youtube.com)\n",
    "\n",
    "## Numpy\n",
    "![LogoNumpy](https://miro.medium.com/max/765/1*cyXCE-JcBelTyrK-58w6_Q.png)\n",
    "Pod spodem będą pkt\n",
    "1. tekst opisujący\n",
    "2. tekst 2\n",
    "\n",
    "    for i in range(10):\n",
    "        print(i)\n",
    "\n",
    "2\\*2\\*2\n"
   ]
  },
  {
   "cell_type": "code",
   "execution_count": null,
   "metadata": {},
   "outputs": [],
   "source": []
  },
  {
   "cell_type": "code",
   "execution_count": null,
   "metadata": {},
   "outputs": [],
   "source": []
  }
 ],
 "metadata": {
  "kernelspec": {
   "display_name": "Python 3",
   "language": "python",
   "name": "python3"
  },
  "language_info": {
   "codemirror_mode": {
    "name": "ipython",
    "version": 3
   },
   "file_extension": ".py",
   "mimetype": "text/x-python",
   "name": "python",
   "nbconvert_exporter": "python",
   "pygments_lexer": "ipython3",
   "version": "3.8.5"
  }
 },
 "nbformat": 4,
 "nbformat_minor": 4
}
