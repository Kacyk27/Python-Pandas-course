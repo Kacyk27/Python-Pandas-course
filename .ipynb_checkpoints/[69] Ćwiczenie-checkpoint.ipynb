{
 "cells": [
  {
   "cell_type": "code",
   "execution_count": 1,
   "id": "8a6c1560",
   "metadata": {},
   "outputs": [],
   "source": [
    "import pandas as pd\n",
    "import numpy as np\n"
   ]
  },
  {
   "cell_type": "code",
   "execution_count": 2,
   "id": "38a838b5",
   "metadata": {},
   "outputs": [],
   "source": [
    "mcdonalds = pd.read_csv(\"./data/mcdonalds.csv\",usecols=[\"Category\",\"Item\",\"Calories\",\"TotalFat\"])"
   ]
  },
  {
   "cell_type": "code",
   "execution_count": 9,
   "id": "3cc176a1",
   "metadata": {},
   "outputs": [],
   "source": [
    "mcdonalds.to_csv(\"mc1.csv\",index=False)"
   ]
  },
  {
   "cell_type": "code",
   "execution_count": 10,
   "id": "c5cdfd29",
   "metadata": {},
   "outputs": [],
   "source": [
    "mcdonalds.to_csv(\"mc2.csv\",index=False,quotechar='\"')"
   ]
  },
  {
   "cell_type": "code",
   "execution_count": 11,
   "id": "58212f78",
   "metadata": {},
   "outputs": [],
   "source": [
    "mcdonalds.to_csv(\"mc3.csv\",index=False,quotechar='\"',decimal=\",\")"
   ]
  },
  {
   "cell_type": "code",
   "execution_count": 12,
   "id": "12ec88a3",
   "metadata": {},
   "outputs": [],
   "source": [
    "mcdonalds.to_csv(\"mc4.csv\",index=False,quotechar='\"',decimal=\",\",columns=[\"Item\",\"TotalFat\"])"
   ]
  },
  {
   "cell_type": "code",
   "execution_count": 13,
   "id": "8101e331",
   "metadata": {},
   "outputs": [],
   "source": [
    "mcdonalds.to_json(\"mc5.json\")"
   ]
  },
  {
   "cell_type": "code",
   "execution_count": 14,
   "id": "fa8eef03",
   "metadata": {},
   "outputs": [],
   "source": [
    "html = mcdonalds.to_html()"
   ]
  },
  {
   "cell_type": "code",
   "execution_count": 15,
   "id": "52b1e276",
   "metadata": {},
   "outputs": [],
   "source": [
    "import io"
   ]
  },
  {
   "cell_type": "code",
   "execution_count": 16,
   "id": "fe2418dc",
   "metadata": {},
   "outputs": [],
   "source": [
    "with io.open(\"mc6.html\",mode=\"w\",encoding=\"utf-8\") as file:\n",
    "    file.write(html)"
   ]
  },
  {
   "cell_type": "code",
   "execution_count": null,
   "id": "096ede73",
   "metadata": {},
   "outputs": [],
   "source": []
  }
 ],
 "metadata": {
  "kernelspec": {
   "display_name": "Python 3",
   "language": "python",
   "name": "python3"
  },
  "language_info": {
   "codemirror_mode": {
    "name": "ipython",
    "version": 3
   },
   "file_extension": ".py",
   "mimetype": "text/x-python",
   "name": "python",
   "nbconvert_exporter": "python",
   "pygments_lexer": "ipython3",
   "version": "3.8.8"
  }
 },
 "nbformat": 4,
 "nbformat_minor": 5
}
