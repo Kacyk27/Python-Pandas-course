{
 "cells": [
  {
   "cell_type": "code",
   "execution_count": 10,
   "id": "d36c8337",
   "metadata": {},
   "outputs": [],
   "source": [
    "import pandas as pd\n",
    "import numpy as np\n",
    "import matplotlib.pyplot as plt\n",
    "import math as math"
   ]
  },
  {
   "cell_type": "code",
   "execution_count": 11,
   "id": "dabfb248",
   "metadata": {},
   "outputs": [
    {
     "data": {
      "text/plain": [
       "do 6             14\n",
       "7-14            334\n",
       "15-17           312\n",
       "18-24          5823\n",
       "25-39          9491\n",
       "40-59          7486\n",
       "60 i więcej    4343\n",
       "dtype: int64"
      ]
     },
     "execution_count": 11,
     "metadata": {},
     "output_type": "execute_result"
    }
   ],
   "source": [
    "ilosc=[14,334,312,5823,9491,7486,4343]\n",
    "wiek=['do 6', '7-14', '15-17', '18-24', '25-39', '40-59', '60 i więcej']\n",
    "wypadki=pd.Series(index=wiek,data=ilosc)\n",
    "wypadki"
   ]
  },
  {
   "cell_type": "code",
   "execution_count": 12,
   "id": "72588680",
   "metadata": {},
   "outputs": [
    {
     "data": {
      "text/plain": [
       "do 6              NaN\n",
       "7-14              NaN\n",
       "15-17             NaN\n",
       "18-24          5823.0\n",
       "25-39          9491.0\n",
       "40-59          7486.0\n",
       "60 i więcej    4343.0\n",
       "dtype: float64"
      ]
     },
     "execution_count": 12,
     "metadata": {},
     "output_type": "execute_result"
    }
   ],
   "source": [
    "wypadki.where(wypadki>1000)"
   ]
  },
  {
   "cell_type": "code",
   "execution_count": 14,
   "id": "9d1ded2c",
   "metadata": {},
   "outputs": [
    {
     "data": {
      "text/plain": [
       "18-24          5823.0\n",
       "25-39          9491.0\n",
       "40-59          7486.0\n",
       "60 i więcej    4343.0\n",
       "dtype: float64"
      ]
     },
     "execution_count": 14,
     "metadata": {},
     "output_type": "execute_result"
    }
   ],
   "source": [
    "incident1000=wypadki.where(wypadki>1000).dropna()\n",
    "incident1000"
   ]
  },
  {
   "cell_type": "code",
   "execution_count": 15,
   "id": "b73c54ac",
   "metadata": {},
   "outputs": [
    {
     "data": {
      "text/plain": [
       "do 6             14\n",
       "7-14            334\n",
       "15-17           312\n",
       "18-24          5823\n",
       "25-39          9491\n",
       "40-59          7486\n",
       "60 i więcej    4343\n",
       "dtype: int64"
      ]
     },
     "execution_count": 15,
     "metadata": {},
     "output_type": "execute_result"
    }
   ],
   "source": [
    "wypadki=pd.Series(index=wiek,data=ilosc)\n",
    "wypadki"
   ]
  },
  {
   "cell_type": "code",
   "execution_count": 16,
   "id": "aba32602",
   "metadata": {},
   "outputs": [
    {
     "data": {
      "text/plain": [
       "18-24    5823\n",
       "25-39    9491\n",
       "40-59    7486\n",
       "dtype: int64"
      ]
     },
     "execution_count": 16,
     "metadata": {},
     "output_type": "execute_result"
    }
   ],
   "source": [
    "wypadki.filter([\"18-24\",\"25-39\",\"40-59\"])"
   ]
  },
  {
   "cell_type": "code",
   "execution_count": 26,
   "id": "83aa08b0",
   "metadata": {},
   "outputs": [
    {
     "data": {
      "text/plain": [
       "do 6      14.0\n",
       "7-14     334.0\n",
       "15-17    312.0\n",
       "dtype: float64"
      ]
     },
     "execution_count": 26,
     "metadata": {},
     "output_type": "execute_result"
    }
   ],
   "source": [
    "wypadki.where(wypadki<=1000,inplace=True)\n",
    "wypadki.dropna(inplace=True)\n",
    "wypadki\n"
   ]
  },
  {
   "cell_type": "code",
   "execution_count": null,
   "id": "7289d7a5",
   "metadata": {},
   "outputs": [],
   "source": []
  }
 ],
 "metadata": {
  "kernelspec": {
   "display_name": "Python 3",
   "language": "python",
   "name": "python3"
  },
  "language_info": {
   "codemirror_mode": {
    "name": "ipython",
    "version": 3
   },
   "file_extension": ".py",
   "mimetype": "text/x-python",
   "name": "python",
   "nbconvert_exporter": "python",
   "pygments_lexer": "ipython3",
   "version": "3.8.8"
  }
 },
 "nbformat": 4,
 "nbformat_minor": 5
}
