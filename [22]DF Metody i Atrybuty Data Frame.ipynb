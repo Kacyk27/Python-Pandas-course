{
 "cells": [
  {
   "cell_type": "code",
   "execution_count": 1,
   "id": "d09c8fd5",
   "metadata": {},
   "outputs": [],
   "source": [
    "import pandas as pd\n",
    "import numpy as np\n",
    "import matplotlib.pyplot as plt\n",
    "import math as math"
   ]
  },
  {
   "cell_type": "code",
   "execution_count": 2,
   "id": "7117699d",
   "metadata": {},
   "outputs": [],
   "source": [
    "frame=mc=pd.read_csv(\"./data/mcdonalds.csv\")"
   ]
  },
  {
   "cell_type": "code",
   "execution_count": 3,
   "id": "e0310341",
   "metadata": {},
   "outputs": [],
   "source": [
    "series=mc=pd.read_csv(\"./data/mcdonalds.csv\",usecols=[\"Item\",\"Calories\"],index_col=\"Item\",squeeze=True)"
   ]
  },
  {
   "cell_type": "code",
   "execution_count": 4,
   "id": "bfe8809d",
   "metadata": {},
   "outputs": [
    {
     "data": {
      "text/html": [
       "<div>\n",
       "<style scoped>\n",
       "    .dataframe tbody tr th:only-of-type {\n",
       "        vertical-align: middle;\n",
       "    }\n",
       "\n",
       "    .dataframe tbody tr th {\n",
       "        vertical-align: top;\n",
       "    }\n",
       "\n",
       "    .dataframe thead th {\n",
       "        text-align: right;\n",
       "    }\n",
       "</style>\n",
       "<table border=\"1\" class=\"dataframe\">\n",
       "  <thead>\n",
       "    <tr style=\"text-align: right;\">\n",
       "      <th></th>\n",
       "      <th>Category</th>\n",
       "      <th>Item</th>\n",
       "      <th>Serving Size</th>\n",
       "      <th>Calories</th>\n",
       "      <th>Calories from Fat</th>\n",
       "      <th>TotalFat</th>\n",
       "      <th>Total Fat (% Daily Value)</th>\n",
       "      <th>Saturated Fat</th>\n",
       "      <th>Saturated Fat (% Daily Value)</th>\n",
       "      <th>Trans Fat</th>\n",
       "      <th>...</th>\n",
       "      <th>Carbohydrates</th>\n",
       "      <th>Carbohydrates (% Daily Value)</th>\n",
       "      <th>Dietary Fiber</th>\n",
       "      <th>Dietary Fiber (% Daily Value)</th>\n",
       "      <th>Sugars</th>\n",
       "      <th>Protein</th>\n",
       "      <th>Vitamin A (% Daily Value)</th>\n",
       "      <th>Vitamin C (% Daily Value)</th>\n",
       "      <th>Calcium (% Daily Value)</th>\n",
       "      <th>Iron (% Daily Value)</th>\n",
       "    </tr>\n",
       "  </thead>\n",
       "  <tbody>\n",
       "    <tr>\n",
       "      <th>0</th>\n",
       "      <td>Breakfast</td>\n",
       "      <td>Egg McMuffin</td>\n",
       "      <td>4.8 oz (136 g)</td>\n",
       "      <td>300</td>\n",
       "      <td>120</td>\n",
       "      <td>13.0</td>\n",
       "      <td>20</td>\n",
       "      <td>5.0</td>\n",
       "      <td>25</td>\n",
       "      <td>0.0</td>\n",
       "      <td>...</td>\n",
       "      <td>31</td>\n",
       "      <td>10</td>\n",
       "      <td>4</td>\n",
       "      <td>17</td>\n",
       "      <td>3</td>\n",
       "      <td>17</td>\n",
       "      <td>10</td>\n",
       "      <td>0</td>\n",
       "      <td>25</td>\n",
       "      <td>15</td>\n",
       "    </tr>\n",
       "    <tr>\n",
       "      <th>1</th>\n",
       "      <td>Breakfast</td>\n",
       "      <td>Egg White Delight</td>\n",
       "      <td>4.8 oz (135 g)</td>\n",
       "      <td>250</td>\n",
       "      <td>70</td>\n",
       "      <td>8.0</td>\n",
       "      <td>12</td>\n",
       "      <td>3.0</td>\n",
       "      <td>15</td>\n",
       "      <td>0.0</td>\n",
       "      <td>...</td>\n",
       "      <td>30</td>\n",
       "      <td>10</td>\n",
       "      <td>4</td>\n",
       "      <td>17</td>\n",
       "      <td>3</td>\n",
       "      <td>18</td>\n",
       "      <td>6</td>\n",
       "      <td>0</td>\n",
       "      <td>25</td>\n",
       "      <td>8</td>\n",
       "    </tr>\n",
       "    <tr>\n",
       "      <th>2</th>\n",
       "      <td>Breakfast</td>\n",
       "      <td>Sausage McMuffin</td>\n",
       "      <td>3.9 oz (111 g)</td>\n",
       "      <td>370</td>\n",
       "      <td>200</td>\n",
       "      <td>23.0</td>\n",
       "      <td>35</td>\n",
       "      <td>8.0</td>\n",
       "      <td>42</td>\n",
       "      <td>0.0</td>\n",
       "      <td>...</td>\n",
       "      <td>29</td>\n",
       "      <td>10</td>\n",
       "      <td>4</td>\n",
       "      <td>17</td>\n",
       "      <td>2</td>\n",
       "      <td>14</td>\n",
       "      <td>8</td>\n",
       "      <td>0</td>\n",
       "      <td>25</td>\n",
       "      <td>10</td>\n",
       "    </tr>\n",
       "    <tr>\n",
       "      <th>3</th>\n",
       "      <td>Breakfast</td>\n",
       "      <td>Sausage McMuffin with Egg</td>\n",
       "      <td>5.7 oz (161 g)</td>\n",
       "      <td>450</td>\n",
       "      <td>250</td>\n",
       "      <td>28.0</td>\n",
       "      <td>43</td>\n",
       "      <td>10.0</td>\n",
       "      <td>52</td>\n",
       "      <td>0.0</td>\n",
       "      <td>...</td>\n",
       "      <td>30</td>\n",
       "      <td>10</td>\n",
       "      <td>4</td>\n",
       "      <td>17</td>\n",
       "      <td>2</td>\n",
       "      <td>21</td>\n",
       "      <td>15</td>\n",
       "      <td>0</td>\n",
       "      <td>30</td>\n",
       "      <td>15</td>\n",
       "    </tr>\n",
       "    <tr>\n",
       "      <th>4</th>\n",
       "      <td>Breakfast</td>\n",
       "      <td>Sausage McMuffin with Egg Whites</td>\n",
       "      <td>5.7 oz (161 g)</td>\n",
       "      <td>400</td>\n",
       "      <td>210</td>\n",
       "      <td>23.0</td>\n",
       "      <td>35</td>\n",
       "      <td>8.0</td>\n",
       "      <td>42</td>\n",
       "      <td>0.0</td>\n",
       "      <td>...</td>\n",
       "      <td>30</td>\n",
       "      <td>10</td>\n",
       "      <td>4</td>\n",
       "      <td>17</td>\n",
       "      <td>2</td>\n",
       "      <td>21</td>\n",
       "      <td>6</td>\n",
       "      <td>0</td>\n",
       "      <td>25</td>\n",
       "      <td>10</td>\n",
       "    </tr>\n",
       "  </tbody>\n",
       "</table>\n",
       "<p>5 rows × 24 columns</p>\n",
       "</div>"
      ],
      "text/plain": [
       "    Category                              Item    Serving Size  Calories  \\\n",
       "0  Breakfast                      Egg McMuffin  4.8 oz (136 g)       300   \n",
       "1  Breakfast                 Egg White Delight  4.8 oz (135 g)       250   \n",
       "2  Breakfast                  Sausage McMuffin  3.9 oz (111 g)       370   \n",
       "3  Breakfast         Sausage McMuffin with Egg  5.7 oz (161 g)       450   \n",
       "4  Breakfast  Sausage McMuffin with Egg Whites  5.7 oz (161 g)       400   \n",
       "\n",
       "   Calories from Fat  TotalFat  Total Fat (% Daily Value)  Saturated Fat  \\\n",
       "0                120      13.0                         20            5.0   \n",
       "1                 70       8.0                         12            3.0   \n",
       "2                200      23.0                         35            8.0   \n",
       "3                250      28.0                         43           10.0   \n",
       "4                210      23.0                         35            8.0   \n",
       "\n",
       "   Saturated Fat (% Daily Value)  Trans Fat  ...  Carbohydrates  \\\n",
       "0                             25        0.0  ...             31   \n",
       "1                             15        0.0  ...             30   \n",
       "2                             42        0.0  ...             29   \n",
       "3                             52        0.0  ...             30   \n",
       "4                             42        0.0  ...             30   \n",
       "\n",
       "   Carbohydrates (% Daily Value)  Dietary Fiber  \\\n",
       "0                             10              4   \n",
       "1                             10              4   \n",
       "2                             10              4   \n",
       "3                             10              4   \n",
       "4                             10              4   \n",
       "\n",
       "   Dietary Fiber (% Daily Value)  Sugars  Protein  Vitamin A (% Daily Value)  \\\n",
       "0                             17       3       17                         10   \n",
       "1                             17       3       18                          6   \n",
       "2                             17       2       14                          8   \n",
       "3                             17       2       21                         15   \n",
       "4                             17       2       21                          6   \n",
       "\n",
       "   Vitamin C (% Daily Value)  Calcium (% Daily Value)  Iron (% Daily Value)  \n",
       "0                          0                       25                    15  \n",
       "1                          0                       25                     8  \n",
       "2                          0                       25                    10  \n",
       "3                          0                       30                    15  \n",
       "4                          0                       25                    10  \n",
       "\n",
       "[5 rows x 24 columns]"
      ]
     },
     "execution_count": 4,
     "metadata": {},
     "output_type": "execute_result"
    }
   ],
   "source": [
    "frame.head()"
   ]
  },
  {
   "cell_type": "code",
   "execution_count": 6,
   "id": "4c93aa37",
   "metadata": {},
   "outputs": [
    {
     "data": {
      "text/plain": [
       "Item\n",
       "Egg McMuffin                        300\n",
       "Egg White Delight                   250\n",
       "Sausage McMuffin                    370\n",
       "Sausage McMuffin with Egg           450\n",
       "Sausage McMuffin with Egg Whites    400\n",
       "Name: Calories, dtype: int64"
      ]
     },
     "execution_count": 6,
     "metadata": {},
     "output_type": "execute_result"
    }
   ],
   "source": [
    "series.head()"
   ]
  },
  {
   "cell_type": "code",
   "execution_count": 8,
   "id": "bb20d113",
   "metadata": {},
   "outputs": [
    {
     "data": {
      "text/plain": [
       "260"
      ]
     },
     "execution_count": 8,
     "metadata": {},
     "output_type": "execute_result"
    }
   ],
   "source": [
    "series.count()"
   ]
  },
  {
   "cell_type": "code",
   "execution_count": 9,
   "id": "9a1d9188",
   "metadata": {},
   "outputs": [
    {
     "data": {
      "text/plain": [
       "Category                         260\n",
       "Item                             260\n",
       "Serving Size                     260\n",
       "Calories                         260\n",
       "Calories from Fat                260\n",
       "TotalFat                         260\n",
       "Total Fat (% Daily Value)        260\n",
       "Saturated Fat                    260\n",
       "Saturated Fat (% Daily Value)    260\n",
       "Trans Fat                        260\n",
       "Cholesterol                      260\n",
       "Cholesterol (% Daily Value)      260\n",
       "Sodium                           260\n",
       "Sodium (% Daily Value)           260\n",
       "Carbohydrates                    260\n",
       "Carbohydrates (% Daily Value)    260\n",
       "Dietary Fiber                    260\n",
       "Dietary Fiber (% Daily Value)    260\n",
       "Sugars                           260\n",
       "Protein                          260\n",
       "Vitamin A (% Daily Value)        260\n",
       "Vitamin C (% Daily Value)        260\n",
       "Calcium (% Daily Value)          260\n",
       "Iron (% Daily Value)             260\n",
       "dtype: int64"
      ]
     },
     "execution_count": 9,
     "metadata": {},
     "output_type": "execute_result"
    }
   ],
   "source": [
    "frame.count()"
   ]
  },
  {
   "cell_type": "code",
   "execution_count": 10,
   "id": "bdc3e228",
   "metadata": {},
   "outputs": [
    {
     "data": {
      "text/plain": [
       "260"
      ]
     },
     "execution_count": 10,
     "metadata": {},
     "output_type": "execute_result"
    }
   ],
   "source": [
    "len(series)"
   ]
  },
  {
   "cell_type": "code",
   "execution_count": 11,
   "id": "c6b4f9a0",
   "metadata": {},
   "outputs": [
    {
     "data": {
      "text/plain": [
       "260"
      ]
     },
     "execution_count": 11,
     "metadata": {},
     "output_type": "execute_result"
    }
   ],
   "source": [
    "len(frame)"
   ]
  },
  {
   "cell_type": "code",
   "execution_count": 12,
   "id": "dc409de1",
   "metadata": {},
   "outputs": [
    {
     "data": {
      "text/plain": [
       "dtype('int64')"
      ]
     },
     "execution_count": 12,
     "metadata": {},
     "output_type": "execute_result"
    }
   ],
   "source": [
    "series.dtypes"
   ]
  },
  {
   "cell_type": "code",
   "execution_count": 13,
   "id": "1498feb1",
   "metadata": {},
   "outputs": [
    {
     "data": {
      "text/plain": [
       "Category                          object\n",
       "Item                              object\n",
       "Serving Size                      object\n",
       "Calories                           int64\n",
       "Calories from Fat                  int64\n",
       "TotalFat                         float64\n",
       "Total Fat (% Daily Value)          int64\n",
       "Saturated Fat                    float64\n",
       "Saturated Fat (% Daily Value)      int64\n",
       "Trans Fat                        float64\n",
       "Cholesterol                        int64\n",
       "Cholesterol (% Daily Value)        int64\n",
       "Sodium                             int64\n",
       "Sodium (% Daily Value)             int64\n",
       "Carbohydrates                      int64\n",
       "Carbohydrates (% Daily Value)      int64\n",
       "Dietary Fiber                      int64\n",
       "Dietary Fiber (% Daily Value)      int64\n",
       "Sugars                             int64\n",
       "Protein                            int64\n",
       "Vitamin A (% Daily Value)          int64\n",
       "Vitamin C (% Daily Value)          int64\n",
       "Calcium (% Daily Value)            int64\n",
       "Iron (% Daily Value)               int64\n",
       "dtype: object"
      ]
     },
     "execution_count": 13,
     "metadata": {},
     "output_type": "execute_result"
    }
   ],
   "source": [
    "frame.dtypes"
   ]
  },
  {
   "cell_type": "code",
   "execution_count": 23,
   "id": "7ffbb1b1",
   "metadata": {},
   "outputs": [
    {
     "data": {
      "text/plain": [
       "(260,)"
      ]
     },
     "execution_count": 23,
     "metadata": {},
     "output_type": "execute_result"
    }
   ],
   "source": [
    "series.shape"
   ]
  },
  {
   "cell_type": "code",
   "execution_count": 24,
   "id": "a55beac2",
   "metadata": {},
   "outputs": [
    {
     "data": {
      "text/plain": [
       "(260, 24)"
      ]
     },
     "execution_count": 24,
     "metadata": {},
     "output_type": "execute_result"
    }
   ],
   "source": [
    "frame.shape"
   ]
  },
  {
   "cell_type": "code",
   "execution_count": 25,
   "id": "0fffac84",
   "metadata": {},
   "outputs": [
    {
     "data": {
      "text/plain": [
       "[Index(['Egg McMuffin', 'Egg White Delight', 'Sausage McMuffin',\n",
       "        'Sausage McMuffin with Egg', 'Sausage McMuffin with Egg Whites',\n",
       "        'Steak & Egg McMuffin', 'Bacon, Egg & Cheese Biscuit (Regular Biscuit)',\n",
       "        'Bacon, Egg & Cheese Biscuit (Large Biscuit)',\n",
       "        'Bacon, Egg & Cheese Biscuit with Egg Whites (Regular Biscuit)',\n",
       "        'Bacon, Egg & Cheese Biscuit with Egg Whites (Large Biscuit)',\n",
       "        ...\n",
       "        'Shamrock Shake (Medium)', 'Shamrock Shake (Large)',\n",
       "        'McFlurry with M&M’s Candies (Small)',\n",
       "        'McFlurry with M&M’s Candies (Medium)',\n",
       "        'McFlurry with M&M’s Candies (Snack)',\n",
       "        'McFlurry with Oreo Cookies (Small)',\n",
       "        'McFlurry with Oreo Cookies (Medium)',\n",
       "        'McFlurry with Oreo Cookies (Snack)',\n",
       "        'McFlurry with Reese's Peanut Butter Cups (Medium)',\n",
       "        'McFlurry with Reese's Peanut Butter Cups (Snack)'],\n",
       "       dtype='object', name='Item', length=260)]"
      ]
     },
     "execution_count": 25,
     "metadata": {},
     "output_type": "execute_result"
    }
   ],
   "source": [
    "series.axes"
   ]
  },
  {
   "cell_type": "code",
   "execution_count": 26,
   "id": "00fc8e9c",
   "metadata": {},
   "outputs": [
    {
     "data": {
      "text/plain": [
       "[RangeIndex(start=0, stop=260, step=1),\n",
       " Index(['Category', 'Item', 'Serving Size', 'Calories', 'Calories from Fat',\n",
       "        'TotalFat', 'Total Fat (% Daily Value)', 'Saturated Fat',\n",
       "        'Saturated Fat (% Daily Value)', 'Trans Fat', 'Cholesterol',\n",
       "        'Cholesterol (% Daily Value)', 'Sodium', 'Sodium (% Daily Value)',\n",
       "        'Carbohydrates', 'Carbohydrates (% Daily Value)', 'Dietary Fiber',\n",
       "        'Dietary Fiber (% Daily Value)', 'Sugars', 'Protein',\n",
       "        'Vitamin A (% Daily Value)', 'Vitamin C (% Daily Value)',\n",
       "        'Calcium (% Daily Value)', 'Iron (% Daily Value)'],\n",
       "       dtype='object')]"
      ]
     },
     "execution_count": 26,
     "metadata": {},
     "output_type": "execute_result"
    }
   ],
   "source": [
    "frame.axes"
   ]
  },
  {
   "cell_type": "code",
   "execution_count": 28,
   "id": "0610bc1c",
   "metadata": {},
   "outputs": [],
   "source": [
    "#series.columns"
   ]
  },
  {
   "cell_type": "code",
   "execution_count": 29,
   "id": "6908835a",
   "metadata": {},
   "outputs": [
    {
     "data": {
      "text/plain": [
       "Index(['Category', 'Item', 'Serving Size', 'Calories', 'Calories from Fat',\n",
       "       'TotalFat', 'Total Fat (% Daily Value)', 'Saturated Fat',\n",
       "       'Saturated Fat (% Daily Value)', 'Trans Fat', 'Cholesterol',\n",
       "       'Cholesterol (% Daily Value)', 'Sodium', 'Sodium (% Daily Value)',\n",
       "       'Carbohydrates', 'Carbohydrates (% Daily Value)', 'Dietary Fiber',\n",
       "       'Dietary Fiber (% Daily Value)', 'Sugars', 'Protein',\n",
       "       'Vitamin A (% Daily Value)', 'Vitamin C (% Daily Value)',\n",
       "       'Calcium (% Daily Value)', 'Iron (% Daily Value)'],\n",
       "      dtype='object')"
      ]
     },
     "execution_count": 29,
     "metadata": {},
     "output_type": "execute_result"
    }
   ],
   "source": [
    "frame.columns"
   ]
  },
  {
   "cell_type": "code",
   "execution_count": 30,
   "id": "a23c02dd",
   "metadata": {},
   "outputs": [
    {
     "data": {
      "text/plain": [
       "array([ 300,  250,  370,  450,  400,  430,  460,  520,  410,  470,  430,\n",
       "        480,  510,  570,  460,  520,  410,  470,  540,  460,  400,  420,\n",
       "        550,  500,  620,  570,  670,  740,  800,  640,  690, 1090, 1150,\n",
       "        990, 1050,  350,  520,  300,  150,  460,  290,  260,  530,  520,\n",
       "        600,  610,  540,  750,  240,  290,  430,  720,  380,  440,  430,\n",
       "        430,  500,  510,  350,  670,  510,  610,  450,  750,  590,  430,\n",
       "        360,  480,  430,  360,  630,  480,  610,  450,  670,  520,  540,\n",
       "        380,  190,  280,  470,  940, 1880,  390,  140,  380,  220,  140,\n",
       "        450,  290,  340,  260,  330,  250,  360,  280,  230,  340,  510,\n",
       "        110,   20,   15,  150,  250,  160,  150,   45,  330,  340,  280,\n",
       "        140,  200,  280,  100,    0,    0,    0,    0,  140,  190,  270,\n",
       "        100,    0,    0,    0,    0,  140,  200,  280,  100,  100,  130,\n",
       "         80,  150,  190,  280,    0,    0,    0,    0,    0,  150,  180,\n",
       "        220,  110,    0,    0,    0,  170,  210,  280,  270,  340,  430,\n",
       "        270,  330,  430,  260,  330,  420,  210,  260,  330,  100,  130,\n",
       "        170,  200,  250,  310,  200,  250,  310,  190,  240,  300,  140,\n",
       "        170,  220,  340,  410,  500,  270,  330,  390,  320,  390,  480,\n",
       "        250,  310,  370,  360,  440,  540,  280,  340,  400,  140,  190,\n",
       "        270,  130,  180,  260,  130,  180,  250,  120,  170,  240,   80,\n",
       "        120,  160,  290,  350,  480,  240,  290,  390,  280,  340,  460,\n",
       "        230,  270,  370,  450,  550,  670,  450,  550,  670,  530,  630,\n",
       "        760,  220,  260,  340,  210,  250,  330,  210,  260,  340,  530,\n",
       "        660,  820,  550,  690,  850,  560,  700,  850,  660,  820,  650,\n",
       "        930,  430,  510,  690,  340,  810,  410], dtype=int64)"
      ]
     },
     "execution_count": 30,
     "metadata": {},
     "output_type": "execute_result"
    }
   ],
   "source": [
    "series.values"
   ]
  },
  {
   "cell_type": "code",
   "execution_count": 31,
   "id": "0d1da58a",
   "metadata": {},
   "outputs": [
    {
     "data": {
      "text/plain": [
       "array([['Breakfast', 'Egg McMuffin', '4.8 oz (136 g)', ..., 0, 25, 15],\n",
       "       ['Breakfast', 'Egg White Delight', '4.8 oz (135 g)', ..., 0, 25,\n",
       "        8],\n",
       "       ['Breakfast', 'Sausage McMuffin', '3.9 oz (111 g)', ..., 0, 25,\n",
       "        10],\n",
       "       ...,\n",
       "       ['Smoothies & Shakes', 'McFlurry with Oreo Cookies (Snack)',\n",
       "        '6.7 oz (190 g)', ..., 0, 25, 6],\n",
       "       ['Smoothies & Shakes',\n",
       "        \"McFlurry with Reese's Peanut Butter Cups (Medium)\",\n",
       "        '14.2 oz (403 g)', ..., 0, 60, 6],\n",
       "       ['Smoothies & Shakes',\n",
       "        \"McFlurry with Reese's Peanut Butter Cups (Snack)\",\n",
       "        '7.1 oz (202 g)', ..., 0, 30, 4]], dtype=object)"
      ]
     },
     "execution_count": 31,
     "metadata": {},
     "output_type": "execute_result"
    }
   ],
   "source": [
    "frame.values"
   ]
  },
  {
   "cell_type": "code",
   "execution_count": 32,
   "id": "dd96cf66",
   "metadata": {},
   "outputs": [
    {
     "name": "stdout",
     "output_type": "stream",
     "text": [
      "<class 'pandas.core.frame.DataFrame'>\n",
      "RangeIndex: 260 entries, 0 to 259\n",
      "Data columns (total 24 columns):\n",
      " #   Column                         Non-Null Count  Dtype  \n",
      "---  ------                         --------------  -----  \n",
      " 0   Category                       260 non-null    object \n",
      " 1   Item                           260 non-null    object \n",
      " 2   Serving Size                   260 non-null    object \n",
      " 3   Calories                       260 non-null    int64  \n",
      " 4   Calories from Fat              260 non-null    int64  \n",
      " 5   TotalFat                       260 non-null    float64\n",
      " 6   Total Fat (% Daily Value)      260 non-null    int64  \n",
      " 7   Saturated Fat                  260 non-null    float64\n",
      " 8   Saturated Fat (% Daily Value)  260 non-null    int64  \n",
      " 9   Trans Fat                      260 non-null    float64\n",
      " 10  Cholesterol                    260 non-null    int64  \n",
      " 11  Cholesterol (% Daily Value)    260 non-null    int64  \n",
      " 12  Sodium                         260 non-null    int64  \n",
      " 13  Sodium (% Daily Value)         260 non-null    int64  \n",
      " 14  Carbohydrates                  260 non-null    int64  \n",
      " 15  Carbohydrates (% Daily Value)  260 non-null    int64  \n",
      " 16  Dietary Fiber                  260 non-null    int64  \n",
      " 17  Dietary Fiber (% Daily Value)  260 non-null    int64  \n",
      " 18  Sugars                         260 non-null    int64  \n",
      " 19  Protein                        260 non-null    int64  \n",
      " 20  Vitamin A (% Daily Value)      260 non-null    int64  \n",
      " 21  Vitamin C (% Daily Value)      260 non-null    int64  \n",
      " 22  Calcium (% Daily Value)        260 non-null    int64  \n",
      " 23  Iron (% Daily Value)           260 non-null    int64  \n",
      "dtypes: float64(3), int64(18), object(3)\n",
      "memory usage: 48.9+ KB\n"
     ]
    }
   ],
   "source": [
    "frame.info()"
   ]
  },
  {
   "cell_type": "code",
   "execution_count": 33,
   "id": "d1759a6c",
   "metadata": {},
   "outputs": [
    {
     "data": {
      "text/plain": [
       "0       16\n",
       "430     10\n",
       "340     10\n",
       "280      9\n",
       "250      8\n",
       "        ..\n",
       "620      1\n",
       "650      1\n",
       "640      1\n",
       "1150     1\n",
       "740      1\n",
       "Name: Calories, Length: 78, dtype: int64"
      ]
     },
     "execution_count": 33,
     "metadata": {},
     "output_type": "execute_result"
    }
   ],
   "source": [
    "series.value_counts()"
   ]
  },
  {
   "cell_type": "code",
   "execution_count": 35,
   "id": "6b976a36",
   "metadata": {},
   "outputs": [
    {
     "data": {
      "text/plain": [
       "0       16\n",
       "430     10\n",
       "340     10\n",
       "280      9\n",
       "250      8\n",
       "        ..\n",
       "620      1\n",
       "650      1\n",
       "640      1\n",
       "1150     1\n",
       "740      1\n",
       "Name: Calories, Length: 78, dtype: int64"
      ]
     },
     "execution_count": 35,
     "metadata": {},
     "output_type": "execute_result"
    }
   ],
   "source": [
    "frame[\"Calories\"].value_counts()"
   ]
  },
  {
   "cell_type": "code",
   "execution_count": 36,
   "id": "0117ff07",
   "metadata": {},
   "outputs": [
    {
     "data": {
      "text/plain": [
       "Coffee & Tea          95\n",
       "Breakfast             42\n",
       "Smoothies & Shakes    28\n",
       "Chicken & Fish        27\n",
       "Beverages             27\n",
       "Beef & Pork           15\n",
       "Snacks & Sides        13\n",
       "Desserts               7\n",
       "Salads                 6\n",
       "Name: Category, dtype: int64"
      ]
     },
     "execution_count": 36,
     "metadata": {},
     "output_type": "execute_result"
    }
   ],
   "source": [
    "frame[\"Category\"].value_counts()"
   ]
  },
  {
   "cell_type": "code",
   "execution_count": 39,
   "id": "e28a0c94",
   "metadata": {},
   "outputs": [
    {
     "data": {
      "text/html": [
       "<div>\n",
       "<style scoped>\n",
       "    .dataframe tbody tr th:only-of-type {\n",
       "        vertical-align: middle;\n",
       "    }\n",
       "\n",
       "    .dataframe tbody tr th {\n",
       "        vertical-align: top;\n",
       "    }\n",
       "\n",
       "    .dataframe thead th {\n",
       "        text-align: right;\n",
       "    }\n",
       "</style>\n",
       "<table border=\"1\" class=\"dataframe\">\n",
       "  <thead>\n",
       "    <tr style=\"text-align: right;\">\n",
       "      <th></th>\n",
       "      <th>Category</th>\n",
       "      <th>Item</th>\n",
       "      <th>Serving Size</th>\n",
       "      <th>Calories</th>\n",
       "      <th>Calories from Fat</th>\n",
       "      <th>TotalFat</th>\n",
       "      <th>Total Fat (% Daily Value)</th>\n",
       "      <th>Saturated Fat</th>\n",
       "      <th>Saturated Fat (% Daily Value)</th>\n",
       "      <th>Trans Fat</th>\n",
       "      <th>...</th>\n",
       "      <th>Carbohydrates</th>\n",
       "      <th>Carbohydrates (% Daily Value)</th>\n",
       "      <th>Dietary Fiber</th>\n",
       "      <th>Dietary Fiber (% Daily Value)</th>\n",
       "      <th>Sugars</th>\n",
       "      <th>Protein</th>\n",
       "      <th>Vitamin A (% Daily Value)</th>\n",
       "      <th>Vitamin C (% Daily Value)</th>\n",
       "      <th>Calcium (% Daily Value)</th>\n",
       "      <th>Iron (% Daily Value)</th>\n",
       "    </tr>\n",
       "  </thead>\n",
       "  <tbody>\n",
       "    <tr>\n",
       "      <th>33</th>\n",
       "      <td>Breakfast</td>\n",
       "      <td>Big Breakfast with Hotcakes and Egg Whites (Re...</td>\n",
       "      <td>14.9 oz (423 g)</td>\n",
       "      <td>990</td>\n",
       "      <td>410</td>\n",
       "      <td>46.0</td>\n",
       "      <td>70</td>\n",
       "      <td>16.0</td>\n",
       "      <td>78</td>\n",
       "      <td>0.0</td>\n",
       "      <td>...</td>\n",
       "      <td>110</td>\n",
       "      <td>37</td>\n",
       "      <td>6</td>\n",
       "      <td>23</td>\n",
       "      <td>17</td>\n",
       "      <td>35</td>\n",
       "      <td>0</td>\n",
       "      <td>2</td>\n",
       "      <td>25</td>\n",
       "      <td>30</td>\n",
       "    </tr>\n",
       "  </tbody>\n",
       "</table>\n",
       "<p>1 rows × 24 columns</p>\n",
       "</div>"
      ],
      "text/plain": [
       "     Category                                               Item  \\\n",
       "33  Breakfast  Big Breakfast with Hotcakes and Egg Whites (Re...   \n",
       "\n",
       "       Serving Size  Calories  Calories from Fat  TotalFat  \\\n",
       "33  14.9 oz (423 g)       990                410      46.0   \n",
       "\n",
       "    Total Fat (% Daily Value)  Saturated Fat  Saturated Fat (% Daily Value)  \\\n",
       "33                         70           16.0                             78   \n",
       "\n",
       "    Trans Fat  ...  Carbohydrates  Carbohydrates (% Daily Value)  \\\n",
       "33        0.0  ...            110                             37   \n",
       "\n",
       "    Dietary Fiber  Dietary Fiber (% Daily Value)  Sugars  Protein  \\\n",
       "33              6                             23      17       35   \n",
       "\n",
       "    Vitamin A (% Daily Value)  Vitamin C (% Daily Value)  \\\n",
       "33                          0                          2   \n",
       "\n",
       "    Calcium (% Daily Value)  Iron (% Daily Value)  \n",
       "33                       25                    30  \n",
       "\n",
       "[1 rows x 24 columns]"
      ]
     },
     "execution_count": 39,
     "metadata": {},
     "output_type": "execute_result"
    }
   ],
   "source": [
    "frame.sample()"
   ]
  },
  {
   "cell_type": "code",
   "execution_count": 41,
   "id": "dde81182",
   "metadata": {},
   "outputs": [
    {
     "data": {
      "text/html": [
       "<div>\n",
       "<style scoped>\n",
       "    .dataframe tbody tr th:only-of-type {\n",
       "        vertical-align: middle;\n",
       "    }\n",
       "\n",
       "    .dataframe tbody tr th {\n",
       "        vertical-align: top;\n",
       "    }\n",
       "\n",
       "    .dataframe thead th {\n",
       "        text-align: right;\n",
       "    }\n",
       "</style>\n",
       "<table border=\"1\" class=\"dataframe\">\n",
       "  <thead>\n",
       "    <tr style=\"text-align: right;\">\n",
       "      <th></th>\n",
       "      <th>Calories from Fat</th>\n",
       "      <th>Trans Fat</th>\n",
       "      <th>Item</th>\n",
       "    </tr>\n",
       "  </thead>\n",
       "  <tbody>\n",
       "    <tr>\n",
       "      <th>0</th>\n",
       "      <td>120</td>\n",
       "      <td>0.0</td>\n",
       "      <td>Egg McMuffin</td>\n",
       "    </tr>\n",
       "    <tr>\n",
       "      <th>1</th>\n",
       "      <td>70</td>\n",
       "      <td>0.0</td>\n",
       "      <td>Egg White Delight</td>\n",
       "    </tr>\n",
       "    <tr>\n",
       "      <th>2</th>\n",
       "      <td>200</td>\n",
       "      <td>0.0</td>\n",
       "      <td>Sausage McMuffin</td>\n",
       "    </tr>\n",
       "    <tr>\n",
       "      <th>3</th>\n",
       "      <td>250</td>\n",
       "      <td>0.0</td>\n",
       "      <td>Sausage McMuffin with Egg</td>\n",
       "    </tr>\n",
       "    <tr>\n",
       "      <th>4</th>\n",
       "      <td>210</td>\n",
       "      <td>0.0</td>\n",
       "      <td>Sausage McMuffin with Egg Whites</td>\n",
       "    </tr>\n",
       "  </tbody>\n",
       "</table>\n",
       "</div>"
      ],
      "text/plain": [
       "   Calories from Fat  Trans Fat                              Item\n",
       "0                120        0.0                      Egg McMuffin\n",
       "1                 70        0.0                 Egg White Delight\n",
       "2                200        0.0                  Sausage McMuffin\n",
       "3                250        0.0         Sausage McMuffin with Egg\n",
       "4                210        0.0  Sausage McMuffin with Egg Whites"
      ]
     },
     "execution_count": 41,
     "metadata": {},
     "output_type": "execute_result"
    }
   ],
   "source": [
    "frame.sample(n=3,axis=\"columns\").head()"
   ]
  },
  {
   "cell_type": "code",
   "execution_count": 42,
   "id": "f4ec6378",
   "metadata": {},
   "outputs": [
    {
     "data": {
      "text/html": [
       "<div>\n",
       "<style scoped>\n",
       "    .dataframe tbody tr th:only-of-type {\n",
       "        vertical-align: middle;\n",
       "    }\n",
       "\n",
       "    .dataframe tbody tr th {\n",
       "        vertical-align: top;\n",
       "    }\n",
       "\n",
       "    .dataframe thead th {\n",
       "        text-align: right;\n",
       "    }\n",
       "</style>\n",
       "<table border=\"1\" class=\"dataframe\">\n",
       "  <thead>\n",
       "    <tr style=\"text-align: right;\">\n",
       "      <th></th>\n",
       "      <th>Category</th>\n",
       "      <th>Item</th>\n",
       "      <th>Serving Size</th>\n",
       "      <th>Calories</th>\n",
       "      <th>Calories from Fat</th>\n",
       "      <th>TotalFat</th>\n",
       "      <th>Total Fat (% Daily Value)</th>\n",
       "      <th>Saturated Fat</th>\n",
       "      <th>Saturated Fat (% Daily Value)</th>\n",
       "      <th>Trans Fat</th>\n",
       "      <th>...</th>\n",
       "      <th>Carbohydrates</th>\n",
       "      <th>Carbohydrates (% Daily Value)</th>\n",
       "      <th>Dietary Fiber</th>\n",
       "      <th>Dietary Fiber (% Daily Value)</th>\n",
       "      <th>Sugars</th>\n",
       "      <th>Protein</th>\n",
       "      <th>Vitamin A (% Daily Value)</th>\n",
       "      <th>Vitamin C (% Daily Value)</th>\n",
       "      <th>Calcium (% Daily Value)</th>\n",
       "      <th>Iron (% Daily Value)</th>\n",
       "    </tr>\n",
       "  </thead>\n",
       "  <tbody>\n",
       "    <tr>\n",
       "      <th>194</th>\n",
       "      <td>Coffee &amp; Tea</td>\n",
       "      <td>Hot Chocolate with Nonfat Milk (Medium)</td>\n",
       "      <td>16 fl oz cup</td>\n",
       "      <td>340</td>\n",
       "      <td>30</td>\n",
       "      <td>3.5</td>\n",
       "      <td>5</td>\n",
       "      <td>2.0</td>\n",
       "      <td>11</td>\n",
       "      <td>0.0</td>\n",
       "      <td>...</td>\n",
       "      <td>61</td>\n",
       "      <td>20</td>\n",
       "      <td>1</td>\n",
       "      <td>4</td>\n",
       "      <td>57</td>\n",
       "      <td>14</td>\n",
       "      <td>20</td>\n",
       "      <td>0</td>\n",
       "      <td>50</td>\n",
       "      <td>6</td>\n",
       "    </tr>\n",
       "    <tr>\n",
       "      <th>10</th>\n",
       "      <td>Breakfast</td>\n",
       "      <td>Sausage Biscuit (Regular Biscuit)</td>\n",
       "      <td>4.1 oz (117 g)</td>\n",
       "      <td>430</td>\n",
       "      <td>240</td>\n",
       "      <td>27.0</td>\n",
       "      <td>42</td>\n",
       "      <td>12.0</td>\n",
       "      <td>62</td>\n",
       "      <td>0.0</td>\n",
       "      <td>...</td>\n",
       "      <td>34</td>\n",
       "      <td>11</td>\n",
       "      <td>2</td>\n",
       "      <td>6</td>\n",
       "      <td>2</td>\n",
       "      <td>11</td>\n",
       "      <td>0</td>\n",
       "      <td>0</td>\n",
       "      <td>6</td>\n",
       "      <td>15</td>\n",
       "    </tr>\n",
       "    <tr>\n",
       "      <th>220</th>\n",
       "      <td>Coffee &amp; Tea</td>\n",
       "      <td>Iced Nonfat Caramel Mocha (Small)</td>\n",
       "      <td>12 fl oz cup</td>\n",
       "      <td>230</td>\n",
       "      <td>45</td>\n",
       "      <td>5.0</td>\n",
       "      <td>8</td>\n",
       "      <td>3.0</td>\n",
       "      <td>16</td>\n",
       "      <td>0.0</td>\n",
       "      <td>...</td>\n",
       "      <td>38</td>\n",
       "      <td>13</td>\n",
       "      <td>0</td>\n",
       "      <td>0</td>\n",
       "      <td>33</td>\n",
       "      <td>8</td>\n",
       "      <td>10</td>\n",
       "      <td>0</td>\n",
       "      <td>25</td>\n",
       "      <td>2</td>\n",
       "    </tr>\n",
       "    <tr>\n",
       "      <th>125</th>\n",
       "      <td>Beverages</td>\n",
       "      <td>Diet Dr Pepper (Child)</td>\n",
       "      <td>12 fl oz cup</td>\n",
       "      <td>0</td>\n",
       "      <td>0</td>\n",
       "      <td>0.0</td>\n",
       "      <td>0</td>\n",
       "      <td>0.0</td>\n",
       "      <td>0</td>\n",
       "      <td>0.0</td>\n",
       "      <td>...</td>\n",
       "      <td>0</td>\n",
       "      <td>0</td>\n",
       "      <td>0</td>\n",
       "      <td>0</td>\n",
       "      <td>0</td>\n",
       "      <td>1</td>\n",
       "      <td>0</td>\n",
       "      <td>0</td>\n",
       "      <td>0</td>\n",
       "      <td>0</td>\n",
       "    </tr>\n",
       "    <tr>\n",
       "      <th>244</th>\n",
       "      <td>Smoothies &amp; Shakes</td>\n",
       "      <td>Strawberry Shake (Small)</td>\n",
       "      <td>12 fl oz cup</td>\n",
       "      <td>550</td>\n",
       "      <td>150</td>\n",
       "      <td>16.0</td>\n",
       "      <td>25</td>\n",
       "      <td>10.0</td>\n",
       "      <td>52</td>\n",
       "      <td>1.0</td>\n",
       "      <td>...</td>\n",
       "      <td>90</td>\n",
       "      <td>30</td>\n",
       "      <td>0</td>\n",
       "      <td>0</td>\n",
       "      <td>79</td>\n",
       "      <td>12</td>\n",
       "      <td>20</td>\n",
       "      <td>0</td>\n",
       "      <td>40</td>\n",
       "      <td>0</td>\n",
       "    </tr>\n",
       "  </tbody>\n",
       "</table>\n",
       "<p>5 rows × 24 columns</p>\n",
       "</div>"
      ],
      "text/plain": [
       "               Category                                     Item  \\\n",
       "194        Coffee & Tea  Hot Chocolate with Nonfat Milk (Medium)   \n",
       "10            Breakfast        Sausage Biscuit (Regular Biscuit)   \n",
       "220        Coffee & Tea        Iced Nonfat Caramel Mocha (Small)   \n",
       "125           Beverages                   Diet Dr Pepper (Child)   \n",
       "244  Smoothies & Shakes                 Strawberry Shake (Small)   \n",
       "\n",
       "       Serving Size  Calories  Calories from Fat  TotalFat  \\\n",
       "194    16 fl oz cup       340                 30       3.5   \n",
       "10   4.1 oz (117 g)       430                240      27.0   \n",
       "220    12 fl oz cup       230                 45       5.0   \n",
       "125    12 fl oz cup         0                  0       0.0   \n",
       "244    12 fl oz cup       550                150      16.0   \n",
       "\n",
       "     Total Fat (% Daily Value)  Saturated Fat  Saturated Fat (% Daily Value)  \\\n",
       "194                          5            2.0                             11   \n",
       "10                          42           12.0                             62   \n",
       "220                          8            3.0                             16   \n",
       "125                          0            0.0                              0   \n",
       "244                         25           10.0                             52   \n",
       "\n",
       "     Trans Fat  ...  Carbohydrates  Carbohydrates (% Daily Value)  \\\n",
       "194        0.0  ...             61                             20   \n",
       "10         0.0  ...             34                             11   \n",
       "220        0.0  ...             38                             13   \n",
       "125        0.0  ...              0                              0   \n",
       "244        1.0  ...             90                             30   \n",
       "\n",
       "     Dietary Fiber  Dietary Fiber (% Daily Value)  Sugars  Protein  \\\n",
       "194              1                              4      57       14   \n",
       "10               2                              6       2       11   \n",
       "220              0                              0      33        8   \n",
       "125              0                              0       0        1   \n",
       "244              0                              0      79       12   \n",
       "\n",
       "     Vitamin A (% Daily Value)  Vitamin C (% Daily Value)  \\\n",
       "194                         20                          0   \n",
       "10                           0                          0   \n",
       "220                         10                          0   \n",
       "125                          0                          0   \n",
       "244                         20                          0   \n",
       "\n",
       "     Calcium (% Daily Value)  Iron (% Daily Value)  \n",
       "194                       50                     6  \n",
       "10                         6                    15  \n",
       "220                       25                     2  \n",
       "125                        0                     0  \n",
       "244                       40                     0  \n",
       "\n",
       "[5 rows x 24 columns]"
      ]
     },
     "execution_count": 42,
     "metadata": {},
     "output_type": "execute_result"
    }
   ],
   "source": [
    "frame.sample(frac=0.02)"
   ]
  },
  {
   "cell_type": "code",
   "execution_count": null,
   "id": "89ed2706",
   "metadata": {},
   "outputs": [],
   "source": []
  }
 ],
 "metadata": {
  "kernelspec": {
   "display_name": "Python 3",
   "language": "python",
   "name": "python3"
  },
  "language_info": {
   "codemirror_mode": {
    "name": "ipython",
    "version": 3
   },
   "file_extension": ".py",
   "mimetype": "text/x-python",
   "name": "python",
   "nbconvert_exporter": "python",
   "pygments_lexer": "ipython3",
   "version": "3.8.8"
  }
 },
 "nbformat": 4,
 "nbformat_minor": 5
}
