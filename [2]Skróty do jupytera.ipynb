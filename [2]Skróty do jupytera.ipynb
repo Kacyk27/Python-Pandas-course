{
 "cells": [
  {
   "cell_type": "code",
   "execution_count": 1,
   "metadata": {},
   "outputs": [
    {
     "name": "stdout",
     "output_type": "stream",
     "text": [
      "Hello\n"
     ]
    }
   ],
   "source": [
    "print(\"Hello\")"
   ]
  },
  {
   "cell_type": "code",
   "execution_count": 2,
   "metadata": {},
   "outputs": [
    {
     "name": "stdout",
     "output_type": "stream",
     "text": [
      "Shift+Enter odpala komórkę\n"
     ]
    }
   ],
   "source": [
    "print(\"Shift+Enter odpala komórkę\")"
   ]
  },
  {
   "cell_type": "code",
   "execution_count": 3,
   "metadata": {},
   "outputs": [
    {
     "name": "stdout",
     "output_type": "stream",
     "text": [
      "Dodawanie komórki powyżej/poniżej: ESC żeby wyjść w tryb komend, potem a(powyżej) lub b(poniżej)\n"
     ]
    }
   ],
   "source": [
    "print(\"Dodawanie komórki powyżej/poniżej: ESC żeby wyjść w tryb komend, potem a(powyżej) lub b(poniżej)\")"
   ]
  },
  {
   "cell_type": "code",
   "execution_count": 6,
   "metadata": {},
   "outputs": [
    {
     "name": "stdout",
     "output_type": "stream",
     "text": [
      "DD usuwa linijkę\n"
     ]
    }
   ],
   "source": [
    "print(\"DD usuwa linijkę\")"
   ]
  },
  {
   "cell_type": "code",
   "execution_count": 5,
   "metadata": {},
   "outputs": [
    {
     "name": "stdout",
     "output_type": "stream",
     "text": [
      "ctrl+s zapisuje \n",
      " ctrl+x wycina linijkę \n",
      " ctrl+v wkleja\n"
     ]
    }
   ],
   "source": [
    "print(\"ctrl+s zapisuje \\n ctrl+x wycina linijkę \\n ctrl+v wkleja\")"
   ]
  },
  {
   "cell_type": "code",
   "execution_count": 8,
   "metadata": {},
   "outputs": [
    {
     "name": "stdout",
     "output_type": "stream",
     "text": [
      "łączenie komórek wygląda na zasadzie- ustawiamy się na komórce wyższej i Shift+M\n",
      "Tak jak właśnie połączyło z tą wyżej (teraz są jednością)\n"
     ]
    }
   ],
   "source": [
    "print(\"łączenie komórek wygląda na zasadzie- ustawiamy się na komórce wyższej i Shift+M\")\n",
    "\n",
    "print(\"Tak jak właśnie połączyło z tą wyżej (teraz są jednością)\")"
   ]
  },
  {
   "cell_type": "code",
   "execution_count": 9,
   "metadata": {},
   "outputs": [
    {
     "name": "stdout",
     "output_type": "stream",
     "text": [
      " natoamist ctrl shift - (minus) rozdziela, wystarczy dać spację  dobre miejsce\n"
     ]
    }
   ],
   "source": [
    "print(\" natoamist ctrl shift - (minus) rozdziela, wystarczy dać spację  dobre miejsce\")"
   ]
  },
  {
   "cell_type": "code",
   "execution_count": 10,
   "metadata": {
    "collapsed": true
   },
   "outputs": [
    {
     "name": "stdout",
     "output_type": "stream",
     "text": [
      "literka O chowa/pokazuje wynik komórki. Dobry przykład poniżej\n",
      "0\n",
      "1\n",
      "2\n",
      "3\n",
      "4\n",
      "5\n",
      "6\n",
      "7\n",
      "8\n",
      "9\n"
     ]
    }
   ],
   "source": [
    "print(\"literka O chowa/pokazuje wynik komórki. Dobry przykład poniżej, natomaist L pokazuje nr linijek\")\n",
    "for i in range(10):\n",
    "    print(i)"
   ]
  },
  {
   "cell_type": "code",
   "execution_count": null,
   "metadata": {},
   "outputs": [],
   "source": []
  }
 ],
 "metadata": {
  "kernelspec": {
   "display_name": "Python 3",
   "language": "python",
   "name": "python3"
  },
  "language_info": {
   "codemirror_mode": {
    "name": "ipython",
    "version": 3
   },
   "file_extension": ".py",
   "mimetype": "text/x-python",
   "name": "python",
   "nbconvert_exporter": "python",
   "pygments_lexer": "ipython3",
   "version": "3.8.5"
  }
 },
 "nbformat": 4,
 "nbformat_minor": 4
}
