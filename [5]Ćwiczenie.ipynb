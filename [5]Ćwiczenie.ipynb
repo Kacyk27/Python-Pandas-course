{
 "cells": [
  {
   "cell_type": "code",
   "execution_count": 1,
   "id": "8c586dcc",
   "metadata": {},
   "outputs": [],
   "source": [
    "import pandas as pd\n",
    "import numpy as np\n",
    "import matplotlib.pyplot as plt\n",
    "import math as math"
   ]
  },
  {
   "cell_type": "code",
   "execution_count": 2,
   "id": "efb3db66",
   "metadata": {},
   "outputs": [],
   "source": [
    "%matplotlib inline"
   ]
  },
  {
   "cell_type": "code",
   "execution_count": 3,
   "id": "a211c06f",
   "metadata": {},
   "outputs": [
    {
     "data": {
      "text/plain": [
       "['Pn', 'Wt', 'Śr', 'Czw', 'Pt', 'Sb', 'Nd']"
      ]
     },
     "execution_count": 3,
     "metadata": {},
     "output_type": "execute_result"
    }
   ],
   "source": [
    "weekdays=[\"Pn\",\"Wt\",\"Śr\",\"Czw\",\"Pt\",\"Sb\",\"Nd\"]\n",
    "weekdays"
   ]
  },
  {
   "cell_type": "code",
   "execution_count": 5,
   "id": "469d593a",
   "metadata": {},
   "outputs": [
    {
     "data": {
      "text/plain": [
       "0     Pn\n",
       "1     Wt\n",
       "2     Śr\n",
       "3    Czw\n",
       "4     Pt\n",
       "5     Sb\n",
       "6     Nd\n",
       "dtype: object"
      ]
     },
     "execution_count": 5,
     "metadata": {},
     "output_type": "execute_result"
    }
   ],
   "source": [
    "weekdaysSeries=pd.Series(weekdays)\n",
    "weekdaysSeries"
   ]
  },
  {
   "cell_type": "code",
   "execution_count": 6,
   "id": "6d64615b",
   "metadata": {},
   "outputs": [
    {
     "data": {
      "text/plain": [
       "[False, False, False, False, False, True, True]"
      ]
     },
     "execution_count": 6,
     "metadata": {},
     "output_type": "execute_result"
    }
   ],
   "source": [
    "freedays=[False,False,False,False,False,True,True]\n",
    "freedays"
   ]
  },
  {
   "cell_type": "code",
   "execution_count": 8,
   "id": "ef34a2b9",
   "metadata": {},
   "outputs": [
    {
     "data": {
      "text/plain": [
       "0    False\n",
       "1    False\n",
       "2    False\n",
       "3    False\n",
       "4    False\n",
       "5     True\n",
       "6     True\n",
       "dtype: bool"
      ]
     },
     "execution_count": 8,
     "metadata": {},
     "output_type": "execute_result"
    }
   ],
   "source": [
    "freedSeries=pd.Series(freedays)\n",
    "freedSeries"
   ]
  },
  {
   "cell_type": "code",
   "execution_count": 11,
   "id": "465542eb",
   "metadata": {},
   "outputs": [
    {
     "data": {
      "text/plain": [
       "{'New Year': '2018-01-01', 'Epiphany': '2018-01-06', 'Easter': '2018-04-01'}"
      ]
     },
     "execution_count": 11,
     "metadata": {},
     "output_type": "execute_result"
    }
   ],
   "source": [
    "holidays={\"New Year\":\"2018-01-01\",\n",
    "          \"Epiphany\":\"2018-01-06\",\n",
    "          \"Easter\":\"2018-04-01\"}\n",
    "\n",
    "holidays"
   ]
  },
  {
   "cell_type": "code",
   "execution_count": 12,
   "id": "aa39bf68",
   "metadata": {},
   "outputs": [
    {
     "data": {
      "text/plain": [
       "New Year    2018-01-01\n",
       "Epiphany    2018-01-06\n",
       "Easter      2018-04-01\n",
       "dtype: object"
      ]
     },
     "execution_count": 12,
     "metadata": {},
     "output_type": "execute_result"
    }
   ],
   "source": [
    "holidaysSeries=pd.Series(holidays)\n",
    "holidaysSeries"
   ]
  },
  {
   "cell_type": "code",
   "execution_count": null,
   "id": "235c6adb",
   "metadata": {},
   "outputs": [],
   "source": []
  }
 ],
 "metadata": {
  "kernelspec": {
   "display_name": "Python 3",
   "language": "python",
   "name": "python3"
  },
  "language_info": {
   "codemirror_mode": {
    "name": "ipython",
    "version": 3
   },
   "file_extension": ".py",
   "mimetype": "text/x-python",
   "name": "python",
   "nbconvert_exporter": "python",
   "pygments_lexer": "ipython3",
   "version": "3.8.8"
  }
 },
 "nbformat": 4,
 "nbformat_minor": 5
}
