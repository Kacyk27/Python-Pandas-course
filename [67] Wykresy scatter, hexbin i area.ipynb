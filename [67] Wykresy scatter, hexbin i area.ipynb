{
 "cells": [
  {
   "cell_type": "code",
   "execution_count": 1,
   "id": "756045e4",
   "metadata": {},
   "outputs": [],
   "source": [
    "import pandas as pd\n",
    "import numpy as np\n",
    "import matplotlib as plt\n",
    "%matplotlib inline"
   ]
  },
  {
   "cell_type": "code",
   "execution_count": 2,
   "id": "5ff572ac",
   "metadata": {},
   "outputs": [
    {
     "data": {
      "text/html": [
       "<div>\n",
       "<style scoped>\n",
       "    .dataframe tbody tr th:only-of-type {\n",
       "        vertical-align: middle;\n",
       "    }\n",
       "\n",
       "    .dataframe tbody tr th {\n",
       "        vertical-align: top;\n",
       "    }\n",
       "\n",
       "    .dataframe thead th {\n",
       "        text-align: right;\n",
       "    }\n",
       "</style>\n",
       "<table border=\"1\" class=\"dataframe\">\n",
       "  <thead>\n",
       "    <tr style=\"text-align: right;\">\n",
       "      <th></th>\n",
       "      <th>dateCrawled</th>\n",
       "      <th>name</th>\n",
       "      <th>seller</th>\n",
       "      <th>offerType</th>\n",
       "      <th>price</th>\n",
       "      <th>abtest</th>\n",
       "      <th>vehicleType</th>\n",
       "      <th>yearOfRegistration</th>\n",
       "      <th>gearbox</th>\n",
       "      <th>powerPS</th>\n",
       "      <th>model</th>\n",
       "      <th>kilometer</th>\n",
       "      <th>monthOfRegistration</th>\n",
       "      <th>fuelType</th>\n",
       "      <th>brand</th>\n",
       "      <th>notRepairedDamage</th>\n",
       "      <th>dateCreated</th>\n",
       "      <th>nrOfPictures</th>\n",
       "      <th>postalCode</th>\n",
       "      <th>lastSeen</th>\n",
       "    </tr>\n",
       "  </thead>\n",
       "  <tbody>\n",
       "    <tr>\n",
       "      <th>0</th>\n",
       "      <td>2016-03-24 11:52:17</td>\n",
       "      <td>Golf_3_1.6</td>\n",
       "      <td>privat</td>\n",
       "      <td>Angebot</td>\n",
       "      <td>480</td>\n",
       "      <td>test</td>\n",
       "      <td>NaN</td>\n",
       "      <td>1993</td>\n",
       "      <td>manuell</td>\n",
       "      <td>0</td>\n",
       "      <td>golf</td>\n",
       "      <td>150000</td>\n",
       "      <td>0</td>\n",
       "      <td>benzin</td>\n",
       "      <td>volkswagen</td>\n",
       "      <td>NaN</td>\n",
       "      <td>2016-03-24 00:00:00</td>\n",
       "      <td>0</td>\n",
       "      <td>70435</td>\n",
       "      <td>2016-04-07 03:16:57</td>\n",
       "    </tr>\n",
       "    <tr>\n",
       "      <th>1</th>\n",
       "      <td>2016-03-24 10:58:45</td>\n",
       "      <td>A5_Sportback_2.7_Tdi</td>\n",
       "      <td>privat</td>\n",
       "      <td>Angebot</td>\n",
       "      <td>18300</td>\n",
       "      <td>test</td>\n",
       "      <td>coupe</td>\n",
       "      <td>2011</td>\n",
       "      <td>manuell</td>\n",
       "      <td>190</td>\n",
       "      <td>NaN</td>\n",
       "      <td>125000</td>\n",
       "      <td>5</td>\n",
       "      <td>diesel</td>\n",
       "      <td>audi</td>\n",
       "      <td>ja</td>\n",
       "      <td>2016-03-24 00:00:00</td>\n",
       "      <td>0</td>\n",
       "      <td>66954</td>\n",
       "      <td>2016-04-07 01:46:50</td>\n",
       "    </tr>\n",
       "    <tr>\n",
       "      <th>2</th>\n",
       "      <td>2016-03-14 12:52:21</td>\n",
       "      <td>Jeep_Grand_Cherokee_\"Overland\"</td>\n",
       "      <td>privat</td>\n",
       "      <td>Angebot</td>\n",
       "      <td>9800</td>\n",
       "      <td>test</td>\n",
       "      <td>suv</td>\n",
       "      <td>2004</td>\n",
       "      <td>automatik</td>\n",
       "      <td>163</td>\n",
       "      <td>grand</td>\n",
       "      <td>125000</td>\n",
       "      <td>8</td>\n",
       "      <td>diesel</td>\n",
       "      <td>jeep</td>\n",
       "      <td>NaN</td>\n",
       "      <td>2016-03-14 00:00:00</td>\n",
       "      <td>0</td>\n",
       "      <td>90480</td>\n",
       "      <td>2016-04-05 12:47:46</td>\n",
       "    </tr>\n",
       "    <tr>\n",
       "      <th>3</th>\n",
       "      <td>2016-03-17 16:54:04</td>\n",
       "      <td>GOLF_4_1_4__3TÜRER</td>\n",
       "      <td>privat</td>\n",
       "      <td>Angebot</td>\n",
       "      <td>1500</td>\n",
       "      <td>test</td>\n",
       "      <td>kleinwagen</td>\n",
       "      <td>2001</td>\n",
       "      <td>manuell</td>\n",
       "      <td>75</td>\n",
       "      <td>golf</td>\n",
       "      <td>150000</td>\n",
       "      <td>6</td>\n",
       "      <td>benzin</td>\n",
       "      <td>volkswagen</td>\n",
       "      <td>nein</td>\n",
       "      <td>2016-03-17 00:00:00</td>\n",
       "      <td>0</td>\n",
       "      <td>91074</td>\n",
       "      <td>2016-03-17 17:40:17</td>\n",
       "    </tr>\n",
       "    <tr>\n",
       "      <th>4</th>\n",
       "      <td>2016-03-31 17:25:20</td>\n",
       "      <td>Skoda_Fabia_1.4_TDI_PD_Classic</td>\n",
       "      <td>privat</td>\n",
       "      <td>Angebot</td>\n",
       "      <td>3600</td>\n",
       "      <td>test</td>\n",
       "      <td>kleinwagen</td>\n",
       "      <td>2008</td>\n",
       "      <td>manuell</td>\n",
       "      <td>69</td>\n",
       "      <td>fabia</td>\n",
       "      <td>90000</td>\n",
       "      <td>7</td>\n",
       "      <td>diesel</td>\n",
       "      <td>skoda</td>\n",
       "      <td>nein</td>\n",
       "      <td>2016-03-31 00:00:00</td>\n",
       "      <td>0</td>\n",
       "      <td>60437</td>\n",
       "      <td>2016-04-06 10:17:21</td>\n",
       "    </tr>\n",
       "  </tbody>\n",
       "</table>\n",
       "</div>"
      ],
      "text/plain": [
       "           dateCrawled                            name  seller offerType  \\\n",
       "0  2016-03-24 11:52:17                      Golf_3_1.6  privat   Angebot   \n",
       "1  2016-03-24 10:58:45            A5_Sportback_2.7_Tdi  privat   Angebot   \n",
       "2  2016-03-14 12:52:21  Jeep_Grand_Cherokee_\"Overland\"  privat   Angebot   \n",
       "3  2016-03-17 16:54:04              GOLF_4_1_4__3TÜRER  privat   Angebot   \n",
       "4  2016-03-31 17:25:20  Skoda_Fabia_1.4_TDI_PD_Classic  privat   Angebot   \n",
       "\n",
       "   price abtest vehicleType  yearOfRegistration    gearbox  powerPS  model  \\\n",
       "0    480   test         NaN                1993    manuell        0   golf   \n",
       "1  18300   test       coupe                2011    manuell      190    NaN   \n",
       "2   9800   test         suv                2004  automatik      163  grand   \n",
       "3   1500   test  kleinwagen                2001    manuell       75   golf   \n",
       "4   3600   test  kleinwagen                2008    manuell       69  fabia   \n",
       "\n",
       "   kilometer  monthOfRegistration fuelType       brand notRepairedDamage  \\\n",
       "0     150000                    0   benzin  volkswagen               NaN   \n",
       "1     125000                    5   diesel        audi                ja   \n",
       "2     125000                    8   diesel        jeep               NaN   \n",
       "3     150000                    6   benzin  volkswagen              nein   \n",
       "4      90000                    7   diesel       skoda              nein   \n",
       "\n",
       "           dateCreated  nrOfPictures  postalCode             lastSeen  \n",
       "0  2016-03-24 00:00:00             0       70435  2016-04-07 03:16:57  \n",
       "1  2016-03-24 00:00:00             0       66954  2016-04-07 01:46:50  \n",
       "2  2016-03-14 00:00:00             0       90480  2016-04-05 12:47:46  \n",
       "3  2016-03-17 00:00:00             0       91074  2016-03-17 17:40:17  \n",
       "4  2016-03-31 00:00:00             0       60437  2016-04-06 10:17:21  "
      ]
     },
     "execution_count": 2,
     "metadata": {},
     "output_type": "execute_result"
    }
   ],
   "source": [
    "autos = pd.read_csv(\"./data/autos.csv\",encoding=\"latin-1\")\n",
    "autos.head()"
   ]
  },
  {
   "cell_type": "code",
   "execution_count": 8,
   "id": "ba9c4ada",
   "metadata": {},
   "outputs": [],
   "source": [
    "import re\n",
    "regex=re.compile(\".*toyota.*corolla.*\",re.IGNORECASE)\n",
    "filter1 = autos[\"name\"].apply(lambda x: bool(regex.search(x)))\n",
    "filter2 = autos[\"price\"]<12000\n",
    "filter3 = autos[\"yearOfRegistration\"]>=1990\n",
    "tc=autos[filter1&filter2&filter3]"
   ]
  },
  {
   "cell_type": "code",
   "execution_count": 9,
   "id": "69e851c6",
   "metadata": {},
   "outputs": [],
   "source": [
    "import re\n",
    "regex=re.compile(\".*Audi.*a4.*\",re.IGNORECASE)\n",
    "filter1 = autos[\"name\"].apply(lambda x: bool(regex.search(x)))\n",
    "filter2 = autos[\"price\"]<12000\n",
    "filter3 = autos[\"yearOfRegistration\"]>=1990\n",
    "audi=autos[filter1&filter2&filter3]"
   ]
  },
  {
   "cell_type": "code",
   "execution_count": 10,
   "id": "962c6521",
   "metadata": {},
   "outputs": [
    {
     "data": {
      "text/html": [
       "<div>\n",
       "<style scoped>\n",
       "    .dataframe tbody tr th:only-of-type {\n",
       "        vertical-align: middle;\n",
       "    }\n",
       "\n",
       "    .dataframe tbody tr th {\n",
       "        vertical-align: top;\n",
       "    }\n",
       "\n",
       "    .dataframe thead th {\n",
       "        text-align: right;\n",
       "    }\n",
       "</style>\n",
       "<table border=\"1\" class=\"dataframe\">\n",
       "  <thead>\n",
       "    <tr style=\"text-align: right;\">\n",
       "      <th></th>\n",
       "      <th>dateCrawled</th>\n",
       "      <th>name</th>\n",
       "      <th>seller</th>\n",
       "      <th>offerType</th>\n",
       "      <th>price</th>\n",
       "      <th>abtest</th>\n",
       "      <th>vehicleType</th>\n",
       "      <th>yearOfRegistration</th>\n",
       "      <th>gearbox</th>\n",
       "      <th>powerPS</th>\n",
       "      <th>model</th>\n",
       "      <th>kilometer</th>\n",
       "      <th>monthOfRegistration</th>\n",
       "      <th>fuelType</th>\n",
       "      <th>brand</th>\n",
       "      <th>notRepairedDamage</th>\n",
       "      <th>dateCreated</th>\n",
       "      <th>nrOfPictures</th>\n",
       "      <th>postalCode</th>\n",
       "      <th>lastSeen</th>\n",
       "    </tr>\n",
       "  </thead>\n",
       "  <tbody>\n",
       "    <tr>\n",
       "      <th>861</th>\n",
       "      <td>2016-03-07 13:46:32</td>\n",
       "      <td>Toyota_Corolla_1.6_Combi_Sol</td>\n",
       "      <td>privat</td>\n",
       "      <td>Angebot</td>\n",
       "      <td>1800</td>\n",
       "      <td>control</td>\n",
       "      <td>kombi</td>\n",
       "      <td>2003</td>\n",
       "      <td>manuell</td>\n",
       "      <td>110</td>\n",
       "      <td>corolla</td>\n",
       "      <td>150000</td>\n",
       "      <td>6</td>\n",
       "      <td>benzin</td>\n",
       "      <td>toyota</td>\n",
       "      <td>ja</td>\n",
       "      <td>2016-03-07 00:00:00</td>\n",
       "      <td>0</td>\n",
       "      <td>53347</td>\n",
       "      <td>2016-03-10 10:46:17</td>\n",
       "    </tr>\n",
       "    <tr>\n",
       "      <th>912</th>\n",
       "      <td>2016-03-27 23:53:18</td>\n",
       "      <td>Toyota_Corolla_Verso_2.2_D_CAT_DPF_Executive</td>\n",
       "      <td>privat</td>\n",
       "      <td>Angebot</td>\n",
       "      <td>5300</td>\n",
       "      <td>test</td>\n",
       "      <td>bus</td>\n",
       "      <td>2008</td>\n",
       "      <td>manuell</td>\n",
       "      <td>177</td>\n",
       "      <td>verso</td>\n",
       "      <td>150000</td>\n",
       "      <td>1</td>\n",
       "      <td>diesel</td>\n",
       "      <td>toyota</td>\n",
       "      <td>nein</td>\n",
       "      <td>2016-03-27 00:00:00</td>\n",
       "      <td>0</td>\n",
       "      <td>63128</td>\n",
       "      <td>2016-04-06 09:15:32</td>\n",
       "    </tr>\n",
       "    <tr>\n",
       "      <th>1898</th>\n",
       "      <td>2016-03-22 20:52:00</td>\n",
       "      <td>Toyota_Corolla</td>\n",
       "      <td>privat</td>\n",
       "      <td>Angebot</td>\n",
       "      <td>3200</td>\n",
       "      <td>control</td>\n",
       "      <td>kleinwagen</td>\n",
       "      <td>2004</td>\n",
       "      <td>manuell</td>\n",
       "      <td>1398</td>\n",
       "      <td>corolla</td>\n",
       "      <td>5000</td>\n",
       "      <td>6</td>\n",
       "      <td>benzin</td>\n",
       "      <td>toyota</td>\n",
       "      <td>nein</td>\n",
       "      <td>2016-03-22 00:00:00</td>\n",
       "      <td>0</td>\n",
       "      <td>22043</td>\n",
       "      <td>2016-03-22 21:43:26</td>\n",
       "    </tr>\n",
       "    <tr>\n",
       "      <th>2264</th>\n",
       "      <td>2016-03-12 23:47:09</td>\n",
       "      <td>Toyota_Corolla_1.6_VVT_i_Combi_Sol</td>\n",
       "      <td>privat</td>\n",
       "      <td>Angebot</td>\n",
       "      <td>2990</td>\n",
       "      <td>control</td>\n",
       "      <td>kombi</td>\n",
       "      <td>2004</td>\n",
       "      <td>manuell</td>\n",
       "      <td>110</td>\n",
       "      <td>corolla</td>\n",
       "      <td>150000</td>\n",
       "      <td>8</td>\n",
       "      <td>benzin</td>\n",
       "      <td>toyota</td>\n",
       "      <td>nein</td>\n",
       "      <td>2016-03-12 00:00:00</td>\n",
       "      <td>0</td>\n",
       "      <td>16540</td>\n",
       "      <td>2016-03-31 06:47:04</td>\n",
       "    </tr>\n",
       "    <tr>\n",
       "      <th>2386</th>\n",
       "      <td>2016-03-10 14:48:16</td>\n",
       "      <td>Toyota_Corolla_Verso_2.2_D_CAT_Sol</td>\n",
       "      <td>privat</td>\n",
       "      <td>Angebot</td>\n",
       "      <td>5900</td>\n",
       "      <td>test</td>\n",
       "      <td>bus</td>\n",
       "      <td>2006</td>\n",
       "      <td>manuell</td>\n",
       "      <td>177</td>\n",
       "      <td>verso</td>\n",
       "      <td>150000</td>\n",
       "      <td>8</td>\n",
       "      <td>diesel</td>\n",
       "      <td>toyota</td>\n",
       "      <td>nein</td>\n",
       "      <td>2016-03-10 00:00:00</td>\n",
       "      <td>0</td>\n",
       "      <td>57072</td>\n",
       "      <td>2016-03-14 11:45:36</td>\n",
       "    </tr>\n",
       "  </tbody>\n",
       "</table>\n",
       "</div>"
      ],
      "text/plain": [
       "              dateCrawled                                          name  \\\n",
       "861   2016-03-07 13:46:32                  Toyota_Corolla_1.6_Combi_Sol   \n",
       "912   2016-03-27 23:53:18  Toyota_Corolla_Verso_2.2_D_CAT_DPF_Executive   \n",
       "1898  2016-03-22 20:52:00                                Toyota_Corolla   \n",
       "2264  2016-03-12 23:47:09            Toyota_Corolla_1.6_VVT_i_Combi_Sol   \n",
       "2386  2016-03-10 14:48:16            Toyota_Corolla_Verso_2.2_D_CAT_Sol   \n",
       "\n",
       "      seller offerType  price   abtest vehicleType  yearOfRegistration  \\\n",
       "861   privat   Angebot   1800  control       kombi                2003   \n",
       "912   privat   Angebot   5300     test         bus                2008   \n",
       "1898  privat   Angebot   3200  control  kleinwagen                2004   \n",
       "2264  privat   Angebot   2990  control       kombi                2004   \n",
       "2386  privat   Angebot   5900     test         bus                2006   \n",
       "\n",
       "      gearbox  powerPS    model  kilometer  monthOfRegistration fuelType  \\\n",
       "861   manuell      110  corolla     150000                    6   benzin   \n",
       "912   manuell      177    verso     150000                    1   diesel   \n",
       "1898  manuell     1398  corolla       5000                    6   benzin   \n",
       "2264  manuell      110  corolla     150000                    8   benzin   \n",
       "2386  manuell      177    verso     150000                    8   diesel   \n",
       "\n",
       "       brand notRepairedDamage          dateCreated  nrOfPictures  postalCode  \\\n",
       "861   toyota                ja  2016-03-07 00:00:00             0       53347   \n",
       "912   toyota              nein  2016-03-27 00:00:00             0       63128   \n",
       "1898  toyota              nein  2016-03-22 00:00:00             0       22043   \n",
       "2264  toyota              nein  2016-03-12 00:00:00             0       16540   \n",
       "2386  toyota              nein  2016-03-10 00:00:00             0       57072   \n",
       "\n",
       "                 lastSeen  \n",
       "861   2016-03-10 10:46:17  \n",
       "912   2016-04-06 09:15:32  \n",
       "1898  2016-03-22 21:43:26  \n",
       "2264  2016-03-31 06:47:04  \n",
       "2386  2016-03-14 11:45:36  "
      ]
     },
     "execution_count": 10,
     "metadata": {},
     "output_type": "execute_result"
    }
   ],
   "source": [
    "tc.head()"
   ]
  },
  {
   "cell_type": "code",
   "execution_count": 11,
   "id": "70475b87",
   "metadata": {},
   "outputs": [
    {
     "data": {
      "text/html": [
       "<div>\n",
       "<style scoped>\n",
       "    .dataframe tbody tr th:only-of-type {\n",
       "        vertical-align: middle;\n",
       "    }\n",
       "\n",
       "    .dataframe tbody tr th {\n",
       "        vertical-align: top;\n",
       "    }\n",
       "\n",
       "    .dataframe thead th {\n",
       "        text-align: right;\n",
       "    }\n",
       "</style>\n",
       "<table border=\"1\" class=\"dataframe\">\n",
       "  <thead>\n",
       "    <tr style=\"text-align: right;\">\n",
       "      <th></th>\n",
       "      <th>dateCrawled</th>\n",
       "      <th>name</th>\n",
       "      <th>seller</th>\n",
       "      <th>offerType</th>\n",
       "      <th>price</th>\n",
       "      <th>abtest</th>\n",
       "      <th>vehicleType</th>\n",
       "      <th>yearOfRegistration</th>\n",
       "      <th>gearbox</th>\n",
       "      <th>powerPS</th>\n",
       "      <th>model</th>\n",
       "      <th>kilometer</th>\n",
       "      <th>monthOfRegistration</th>\n",
       "      <th>fuelType</th>\n",
       "      <th>brand</th>\n",
       "      <th>notRepairedDamage</th>\n",
       "      <th>dateCreated</th>\n",
       "      <th>nrOfPictures</th>\n",
       "      <th>postalCode</th>\n",
       "      <th>lastSeen</th>\n",
       "    </tr>\n",
       "  </thead>\n",
       "  <tbody>\n",
       "    <tr>\n",
       "      <th>103</th>\n",
       "      <td>2016-03-15 17:41:31</td>\n",
       "      <td>Audi_A4_B5_1_6_Liter</td>\n",
       "      <td>privat</td>\n",
       "      <td>Angebot</td>\n",
       "      <td>499</td>\n",
       "      <td>control</td>\n",
       "      <td>limousine</td>\n",
       "      <td>1995</td>\n",
       "      <td>manuell</td>\n",
       "      <td>101</td>\n",
       "      <td>a4</td>\n",
       "      <td>150000</td>\n",
       "      <td>5</td>\n",
       "      <td>benzin</td>\n",
       "      <td>audi</td>\n",
       "      <td>NaN</td>\n",
       "      <td>2016-03-15 00:00:00</td>\n",
       "      <td>0</td>\n",
       "      <td>85414</td>\n",
       "      <td>2016-03-22 20:48:22</td>\n",
       "    </tr>\n",
       "    <tr>\n",
       "      <th>105</th>\n",
       "      <td>2016-04-01 09:54:39</td>\n",
       "      <td>Audi_a4_2.5_TDI_Tausch_moeglich</td>\n",
       "      <td>privat</td>\n",
       "      <td>Angebot</td>\n",
       "      <td>6500</td>\n",
       "      <td>test</td>\n",
       "      <td>limousine</td>\n",
       "      <td>2004</td>\n",
       "      <td>manuell</td>\n",
       "      <td>163</td>\n",
       "      <td>a4</td>\n",
       "      <td>150000</td>\n",
       "      <td>4</td>\n",
       "      <td>diesel</td>\n",
       "      <td>audi</td>\n",
       "      <td>NaN</td>\n",
       "      <td>2016-04-01 00:00:00</td>\n",
       "      <td>0</td>\n",
       "      <td>97450</td>\n",
       "      <td>2016-04-01 09:54:39</td>\n",
       "    </tr>\n",
       "    <tr>\n",
       "      <th>147</th>\n",
       "      <td>2016-03-14 12:46:46</td>\n",
       "      <td>Audi_A4_b5_Avant_TÜV_10/17</td>\n",
       "      <td>privat</td>\n",
       "      <td>Angebot</td>\n",
       "      <td>1500</td>\n",
       "      <td>test</td>\n",
       "      <td>kombi</td>\n",
       "      <td>1996</td>\n",
       "      <td>manuell</td>\n",
       "      <td>126</td>\n",
       "      <td>a4</td>\n",
       "      <td>150000</td>\n",
       "      <td>0</td>\n",
       "      <td>NaN</td>\n",
       "      <td>audi</td>\n",
       "      <td>nein</td>\n",
       "      <td>2016-03-14 00:00:00</td>\n",
       "      <td>0</td>\n",
       "      <td>24873</td>\n",
       "      <td>2016-03-17 00:45:29</td>\n",
       "    </tr>\n",
       "    <tr>\n",
       "      <th>316</th>\n",
       "      <td>2016-03-19 10:54:59</td>\n",
       "      <td>Audi_A4_Cabriolet_3.0</td>\n",
       "      <td>privat</td>\n",
       "      <td>Angebot</td>\n",
       "      <td>5299</td>\n",
       "      <td>test</td>\n",
       "      <td>cabrio</td>\n",
       "      <td>2002</td>\n",
       "      <td>manuell</td>\n",
       "      <td>220</td>\n",
       "      <td>a4</td>\n",
       "      <td>150000</td>\n",
       "      <td>4</td>\n",
       "      <td>benzin</td>\n",
       "      <td>audi</td>\n",
       "      <td>nein</td>\n",
       "      <td>2016-03-19 00:00:00</td>\n",
       "      <td>0</td>\n",
       "      <td>80999</td>\n",
       "      <td>2016-04-02 14:46:07</td>\n",
       "    </tr>\n",
       "    <tr>\n",
       "      <th>408</th>\n",
       "      <td>2016-03-20 23:45:11</td>\n",
       "      <td>Audi_A4_1.8</td>\n",
       "      <td>privat</td>\n",
       "      <td>Angebot</td>\n",
       "      <td>2700</td>\n",
       "      <td>control</td>\n",
       "      <td>limousine</td>\n",
       "      <td>1999</td>\n",
       "      <td>manuell</td>\n",
       "      <td>125</td>\n",
       "      <td>a4</td>\n",
       "      <td>125000</td>\n",
       "      <td>7</td>\n",
       "      <td>benzin</td>\n",
       "      <td>audi</td>\n",
       "      <td>nein</td>\n",
       "      <td>2016-03-20 00:00:00</td>\n",
       "      <td>0</td>\n",
       "      <td>57072</td>\n",
       "      <td>2016-04-07 09:45:41</td>\n",
       "    </tr>\n",
       "  </tbody>\n",
       "</table>\n",
       "</div>"
      ],
      "text/plain": [
       "             dateCrawled                             name  seller offerType  \\\n",
       "103  2016-03-15 17:41:31             Audi_A4_B5_1_6_Liter  privat   Angebot   \n",
       "105  2016-04-01 09:54:39  Audi_a4_2.5_TDI_Tausch_moeglich  privat   Angebot   \n",
       "147  2016-03-14 12:46:46       Audi_A4_b5_Avant_TÜV_10/17  privat   Angebot   \n",
       "316  2016-03-19 10:54:59            Audi_A4_Cabriolet_3.0  privat   Angebot   \n",
       "408  2016-03-20 23:45:11                      Audi_A4_1.8  privat   Angebot   \n",
       "\n",
       "     price   abtest vehicleType  yearOfRegistration  gearbox  powerPS model  \\\n",
       "103    499  control   limousine                1995  manuell      101    a4   \n",
       "105   6500     test   limousine                2004  manuell      163    a4   \n",
       "147   1500     test       kombi                1996  manuell      126    a4   \n",
       "316   5299     test      cabrio                2002  manuell      220    a4   \n",
       "408   2700  control   limousine                1999  manuell      125    a4   \n",
       "\n",
       "     kilometer  monthOfRegistration fuelType brand notRepairedDamage  \\\n",
       "103     150000                    5   benzin  audi               NaN   \n",
       "105     150000                    4   diesel  audi               NaN   \n",
       "147     150000                    0      NaN  audi              nein   \n",
       "316     150000                    4   benzin  audi              nein   \n",
       "408     125000                    7   benzin  audi              nein   \n",
       "\n",
       "             dateCreated  nrOfPictures  postalCode             lastSeen  \n",
       "103  2016-03-15 00:00:00             0       85414  2016-03-22 20:48:22  \n",
       "105  2016-04-01 00:00:00             0       97450  2016-04-01 09:54:39  \n",
       "147  2016-03-14 00:00:00             0       24873  2016-03-17 00:45:29  \n",
       "316  2016-03-19 00:00:00             0       80999  2016-04-02 14:46:07  \n",
       "408  2016-03-20 00:00:00             0       57072  2016-04-07 09:45:41  "
      ]
     },
     "execution_count": 11,
     "metadata": {},
     "output_type": "execute_result"
    }
   ],
   "source": [
    "audi.head()"
   ]
  },
  {
   "cell_type": "code",
   "execution_count": 12,
   "id": "e1371f43",
   "metadata": {},
   "outputs": [
    {
     "data": {
      "text/plain": [
       "<AxesSubplot:xlabel='yearOfRegistration', ylabel='price'>"
      ]
     },
     "execution_count": 12,
     "metadata": {},
     "output_type": "execute_result"
    },
    {
     "data": {
      "image/png": "[encoded data removed]",
      "text/plain": [
       "<Figure size 432x288 with 1 Axes>"
      ]
     },
     "metadata": {
      "needs_background": "light"
     },
     "output_type": "display_data"
    }
   ],
   "source": [
    "tc.plot(kind=\"scatter\",x=\"yearOfRegistration\",y=\"price\")"
   ]
  },
  {
   "cell_type": "code",
   "execution_count": 13,
   "id": "ac729d95",
   "metadata": {},
   "outputs": [
    {
     "data": {
      "text/plain": [
       "<AxesSubplot:xlabel='yearOfRegistration', ylabel='price'>"
      ]
     },
     "execution_count": 13,
     "metadata": {},
     "output_type": "execute_result"
    },
    {
     "data": {
      "image/png": "[encoded data removed]",
      "text/plain": [
       "<Figure size 432x288 with 1 Axes>"
      ]
     },
     "metadata": {
      "needs_background": "light"
     },
     "output_type": "display_data"
    }
   ],
   "source": [
    "audi.plot(kind=\"scatter\",x=\"yearOfRegistration\",y=\"price\")"
   ]
  },
  {
   "cell_type": "code",
   "execution_count": 14,
   "id": "60730acb",
   "metadata": {},
   "outputs": [
    {
     "data": {
      "text/plain": [
       "<AxesSubplot:xlabel='yearOfRegistration', ylabel='price'>"
      ]
     },
     "execution_count": 14,
     "metadata": {},
     "output_type": "execute_result"
    },
    {
     "data": {
      "image/png": "[encoded data removed]",
      "text/plain": [
       "<Figure size 432x288 with 1 Axes>"
      ]
     },
     "metadata": {
      "needs_background": "light"
     },
     "output_type": "display_data"
    }
   ],
   "source": [
    "ax= audi.plot.scatter(x=\"yearOfRegistration\",y=\"price\",color=\"Blue\",label=\"Audi\")\n",
    "tc.plot.scatter(x=\"yearOfRegistration\",y=\"price\",color=\"Green\",label=\"Toyota\",ax=ax)\n"
   ]
  },
  {
   "cell_type": "code",
   "execution_count": 18,
   "id": "5d6915c7",
   "metadata": {},
   "outputs": [
    {
     "data": {
      "text/plain": [
       "<AxesSubplot:title={'center':'Audi'}, xlabel='yearOfRegistration', ylabel='price'>"
      ]
     },
     "execution_count": 18,
     "metadata": {},
     "output_type": "execute_result"
    },
    {
     "data": {
      "image/png": "[encoded data removed]",
      "text/plain": [
       "<Figure size 432x288 with 2 Axes>"
      ]
     },
     "metadata": {
      "needs_background": "light"
     },
     "output_type": "display_data"
    },
    {
     "data": {
      "image/png": "[encoded data removed]",
      "text/plain": [
       "<Figure size 432x288 with 2 Axes>"
      ]
     },
     "metadata": {
      "needs_background": "light"
     },
     "output_type": "display_data"
    }
   ],
   "source": [
    "tc.plot.hexbin(x=\"yearOfRegistration\",y=\"price\",gridsize=10,title=\"Toyota\")\n",
    "audi.plot.hexbin(x=\"yearOfRegistration\",y=\"price\",gridsize=10,title=\"Audi\")"
   ]
  },
  {
   "cell_type": "code",
   "execution_count": 20,
   "id": "4c218e4e",
   "metadata": {},
   "outputs": [],
   "source": [
    "tcCounts=tc[\"yearOfRegistration\"].value_counts().sort_index()"
   ]
  },
  {
   "cell_type": "code",
   "execution_count": 22,
   "id": "e43f347e",
   "metadata": {},
   "outputs": [
    {
     "data": {
      "text/plain": [
       "1990     6\n",
       "1991     4\n",
       "1992     5\n",
       "1993    12\n",
       "1994     3\n",
       "Name: yearOfRegistration, dtype: int64"
      ]
     },
     "execution_count": 22,
     "metadata": {},
     "output_type": "execute_result"
    }
   ],
   "source": [
    "tcCounts.head()"
   ]
  },
  {
   "cell_type": "code",
   "execution_count": 23,
   "id": "9b58624c",
   "metadata": {},
   "outputs": [],
   "source": [
    "audiCounts=audi[\"yearOfRegistration\"].value_counts().sort_index()"
   ]
  },
  {
   "cell_type": "code",
   "execution_count": 24,
   "id": "b001e621",
   "metadata": {},
   "outputs": [
    {
     "data": {
      "text/plain": [
       "1992      1\n",
       "1993      1\n",
       "1994     39\n",
       "1995    458\n",
       "1996    609\n",
       "Name: yearOfRegistration, dtype: int64"
      ]
     },
     "execution_count": 24,
     "metadata": {},
     "output_type": "execute_result"
    }
   ],
   "source": [
    "audiCounts.head()"
   ]
  },
  {
   "cell_type": "code",
   "execution_count": 25,
   "id": "5d7a4570",
   "metadata": {},
   "outputs": [],
   "source": [
    "carCounts=pd.DataFrame(index=tcCounts.index.append(audiCounts.index).unique())"
   ]
  },
  {
   "cell_type": "code",
   "execution_count": 26,
   "id": "e08821a0",
   "metadata": {},
   "outputs": [],
   "source": [
    "carCounts[\"Toyota\"]=tcCounts"
   ]
  },
  {
   "cell_type": "code",
   "execution_count": 27,
   "id": "5a54d627",
   "metadata": {},
   "outputs": [],
   "source": [
    "carCounts[\"Audi\"]=audiCounts"
   ]
  },
  {
   "cell_type": "code",
   "execution_count": 28,
   "id": "f3ccef33",
   "metadata": {},
   "outputs": [
    {
     "data": {
      "text/html": [
       "<div>\n",
       "<style scoped>\n",
       "    .dataframe tbody tr th:only-of-type {\n",
       "        vertical-align: middle;\n",
       "    }\n",
       "\n",
       "    .dataframe tbody tr th {\n",
       "        vertical-align: top;\n",
       "    }\n",
       "\n",
       "    .dataframe thead th {\n",
       "        text-align: right;\n",
       "    }\n",
       "</style>\n",
       "<table border=\"1\" class=\"dataframe\">\n",
       "  <thead>\n",
       "    <tr style=\"text-align: right;\">\n",
       "      <th></th>\n",
       "      <th>Toyota</th>\n",
       "      <th>Audi</th>\n",
       "    </tr>\n",
       "  </thead>\n",
       "  <tbody>\n",
       "    <tr>\n",
       "      <th>1990</th>\n",
       "      <td>6.0</td>\n",
       "      <td>NaN</td>\n",
       "    </tr>\n",
       "    <tr>\n",
       "      <th>1991</th>\n",
       "      <td>4.0</td>\n",
       "      <td>NaN</td>\n",
       "    </tr>\n",
       "    <tr>\n",
       "      <th>1992</th>\n",
       "      <td>5.0</td>\n",
       "      <td>1.0</td>\n",
       "    </tr>\n",
       "    <tr>\n",
       "      <th>1993</th>\n",
       "      <td>12.0</td>\n",
       "      <td>1.0</td>\n",
       "    </tr>\n",
       "    <tr>\n",
       "      <th>1994</th>\n",
       "      <td>3.0</td>\n",
       "      <td>39.0</td>\n",
       "    </tr>\n",
       "  </tbody>\n",
       "</table>\n",
       "</div>"
      ],
      "text/plain": [
       "      Toyota  Audi\n",
       "1990     6.0   NaN\n",
       "1991     4.0   NaN\n",
       "1992     5.0   1.0\n",
       "1993    12.0   1.0\n",
       "1994     3.0  39.0"
      ]
     },
     "execution_count": 28,
     "metadata": {},
     "output_type": "execute_result"
    }
   ],
   "source": [
    "carCounts.head()"
   ]
  },
  {
   "cell_type": "code",
   "execution_count": 29,
   "id": "190adc74",
   "metadata": {},
   "outputs": [],
   "source": [
    "carCounts.fillna(0,inplace=True)"
   ]
  },
  {
   "cell_type": "code",
   "execution_count": 30,
   "id": "904e4d1a",
   "metadata": {},
   "outputs": [],
   "source": [
    "carCounts.sort_index(inplace=True)"
   ]
  },
  {
   "cell_type": "code",
   "execution_count": 31,
   "id": "7eb7f082",
   "metadata": {},
   "outputs": [
    {
     "data": {
      "text/plain": [
       "<AxesSubplot:>"
      ]
     },
     "execution_count": 31,
     "metadata": {},
     "output_type": "execute_result"
    },
    {
     "data": {
      "image/png": "[encoded data removed]",
      "text/plain": [
       "<Figure size 432x288 with 1 Axes>"
      ]
     },
     "metadata": {
      "needs_background": "light"
     },
     "output_type": "display_data"
    }
   ],
   "source": [
    "carCounts.plot()"
   ]
  },
  {
   "cell_type": "code",
   "execution_count": 32,
   "id": "c6b12fff",
   "metadata": {},
   "outputs": [
    {
     "data": {
      "text/plain": [
       "<AxesSubplot:>"
      ]
     },
     "execution_count": 32,
     "metadata": {},
     "output_type": "execute_result"
    },
    {
     "data": {
      "image/png": "[encoded data removed]",
      "text/plain": [
       "<Figure size 432x288 with 1 Axes>"
      ]
     },
     "metadata": {
      "needs_background": "light"
     },
     "output_type": "display_data"
    }
   ],
   "source": [
    "carCounts.plot(kind=\"area\")"
   ]
  },
  {
   "cell_type": "code",
   "execution_count": null,
   "id": "b8d87498",
   "metadata": {},
   "outputs": [],
   "source": []
  }
 ],
 "metadata": {
  "kernelspec": {
   "display_name": "Python 3",
   "language": "python",
   "name": "python3"
  },
  "language_info": {
   "codemirror_mode": {
    "name": "ipython",
    "version": 3
   },
   "file_extension": ".py",
   "mimetype": "text/x-python",
   "name": "python",
   "nbconvert_exporter": "python",
   "pygments_lexer": "ipython3",
   "version": "3.8.8"
  }
 },
 "nbformat": 4,
 "nbformat_minor": 5
}
