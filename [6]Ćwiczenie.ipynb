{
 "cells": [
  {
   "cell_type": "code",
   "execution_count": 4,
   "id": "9d3da5bc",
   "metadata": {},
   "outputs": [],
   "source": [
    "import pandas as pd\n",
    "import numpy as np\n",
    "import matplotlib.pyplot as plt\n",
    "import math as math\n",
    "import random as rnd"
   ]
  },
  {
   "cell_type": "code",
   "execution_count": 7,
   "id": "fb9dfb21",
   "metadata": {},
   "outputs": [
    {
     "name": "stdout",
     "output_type": "stream",
     "text": [
      "size: 100000\n",
      "nbytes 800000\n",
      "shape: (100000,)\n",
      "axes: [RangeIndex(start=0, stop=100000, step=1)]\n",
      "dtype: float64\n",
      "index: RangeIndex(start=0, stop=100000, step=1)\n",
      "unique: True\n",
      "monotonic False\n"
     ]
    }
   ],
   "source": [
    "dataAsFloatList=[]\n",
    "for i in range(0,100000):\n",
    "    x=i*rnd.random()\n",
    "    dataAsFloatList.append(x)\n",
    "dataAsFloatSeries=pd.Series(dataAsFloatList)\n",
    "print(\"size:\",dataAsFloatSeries.size)\n",
    "print(\"nbytes\",dataAsFloatSeries.nbytes)\n",
    "print(\"shape:\",dataAsFloatSeries.shape)\n",
    "print(\"axes:\",dataAsFloatSeries.axes)\n",
    "print(\"dtype:\",dataAsFloatSeries.dtype)\n",
    "print(\"index:\",dataAsFloatSeries.index)\n",
    "print(\"unique:\",dataAsFloatSeries.is_unique)\n",
    "print(\"monotonic\",dataAsFloatSeries.is_monotonic)"
   ]
  },
  {
   "cell_type": "code",
   "execution_count": 9,
   "id": "c341a3dd",
   "metadata": {},
   "outputs": [
    {
     "name": "stdout",
     "output_type": "stream",
     "text": [
      "size: 100000\n",
      "nbytes: 800000\n",
      "dtype: object\n"
     ]
    }
   ],
   "source": [
    "dataasstringlist=[]\n",
    "for i in range(0,100000):\n",
    "    x=str(i*rnd.random())\n",
    "    dataasstringlist.append(x)\n",
    "dataAsStringSeries=pd.Series(dataasstringlist)\n",
    "print(\"size:\",dataAsStringSeries.size)\n",
    "print(\"nbytes:\",dataAsStringSeries.nbytes)\n",
    "print(\"dtype:\",dataAsStringSeries.dtype)"
   ]
  },
  {
   "cell_type": "code",
   "execution_count": 10,
   "id": "15c3e315",
   "metadata": {},
   "outputs": [
    {
     "data": {
      "text/plain": [
       "800128"
      ]
     },
     "execution_count": 10,
     "metadata": {},
     "output_type": "execute_result"
    }
   ],
   "source": [
    "dataAsFloatSeries.memory_usage(deep=True)"
   ]
  },
  {
   "cell_type": "code",
   "execution_count": 11,
   "id": "fbf8affc",
   "metadata": {},
   "outputs": [
    {
     "data": {
      "text/plain": [
       "7434484"
      ]
     },
     "execution_count": 11,
     "metadata": {},
     "output_type": "execute_result"
    }
   ],
   "source": [
    "dataAsStringSeries.memory_usage(deep=True)"
   ]
  },
  {
   "cell_type": "code",
   "execution_count": null,
   "id": "a5ca97ea",
   "metadata": {},
   "outputs": [],
   "source": []
  }
 ],
 "metadata": {
  "kernelspec": {
   "display_name": "Python 3",
   "language": "python",
   "name": "python3"
  },
  "language_info": {
   "codemirror_mode": {
    "name": "ipython",
    "version": 3
   },
   "file_extension": ".py",
   "mimetype": "text/x-python",
   "name": "python",
   "nbconvert_exporter": "python",
   "pygments_lexer": "ipython3",
   "version": "3.8.8"
  }
 },
 "nbformat": 4,
 "nbformat_minor": 5
}
