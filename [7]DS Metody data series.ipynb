{
 "cells": [
  {
   "cell_type": "code",
   "execution_count": 1,
   "id": "153ad624",
   "metadata": {},
   "outputs": [],
   "source": [
    "import pandas as pd\n",
    "import numpy as np\n",
    "import matplotlib.pyplot as plt\n",
    "import math as math"
   ]
  },
  {
   "cell_type": "code",
   "execution_count": 2,
   "id": "116b99ee",
   "metadata": {},
   "outputs": [
    {
     "data": {
      "text/plain": [
       "0     1\n",
       "1     2\n",
       "2     4\n",
       "3    67\n",
       "4    99\n",
       "dtype: int64"
      ]
     },
     "execution_count": 2,
     "metadata": {},
     "output_type": "execute_result"
    }
   ],
   "source": [
    "monoList=(1,2,4,67,99)\n",
    "monoSeries=pd.Series(monoList)\n",
    "monoSeries"
   ]
  },
  {
   "cell_type": "code",
   "execution_count": 3,
   "id": "75f460a8",
   "metadata": {},
   "outputs": [
    {
     "data": {
      "text/plain": [
       "173"
      ]
     },
     "execution_count": 3,
     "metadata": {},
     "output_type": "execute_result"
    }
   ],
   "source": [
    "monoSeries.sum()"
   ]
  },
  {
   "cell_type": "code",
   "execution_count": 4,
   "id": "88473223",
   "metadata": {},
   "outputs": [
    {
     "data": {
      "text/plain": [
       "1"
      ]
     },
     "execution_count": 4,
     "metadata": {},
     "output_type": "execute_result"
    }
   ],
   "source": [
    "monoSeries.min()"
   ]
  },
  {
   "cell_type": "code",
   "execution_count": 5,
   "id": "28a45855",
   "metadata": {},
   "outputs": [
    {
     "data": {
      "text/plain": [
       "99"
      ]
     },
     "execution_count": 5,
     "metadata": {},
     "output_type": "execute_result"
    }
   ],
   "source": [
    "monoSeries.max()"
   ]
  },
  {
   "cell_type": "code",
   "execution_count": 6,
   "id": "39cec983",
   "metadata": {},
   "outputs": [
    {
     "data": {
      "text/plain": [
       "5"
      ]
     },
     "execution_count": 6,
     "metadata": {},
     "output_type": "execute_result"
    }
   ],
   "source": [
    "monoSeries.count()"
   ]
  },
  {
   "cell_type": "code",
   "execution_count": 7,
   "id": "5d4ca950",
   "metadata": {},
   "outputs": [
    {
     "data": {
      "text/plain": [
       "5"
      ]
     },
     "execution_count": 7,
     "metadata": {},
     "output_type": "execute_result"
    }
   ],
   "source": [
    "monoSeries.size"
   ]
  },
  {
   "cell_type": "code",
   "execution_count": 22,
   "id": "5813ffc8",
   "metadata": {},
   "outputs": [
    {
     "data": {
      "text/plain": [
       "53064"
      ]
     },
     "execution_count": 22,
     "metadata": {},
     "output_type": "execute_result"
    }
   ],
   "source": [
    "monoSeries.product()\n",
    "#mnoży wszystko przez siebie"
   ]
  },
  {
   "cell_type": "code",
   "execution_count": 23,
   "id": "082908e2",
   "metadata": {},
   "outputs": [
    {
     "data": {
      "text/plain": [
       "34.6"
      ]
     },
     "execution_count": 23,
     "metadata": {},
     "output_type": "execute_result"
    }
   ],
   "source": [
    "monoSeries.mean()"
   ]
  },
  {
   "cell_type": "code",
   "execution_count": 9,
   "id": "ba278fe7",
   "metadata": {},
   "outputs": [
    {
     "data": {
      "text/plain": [
       "RangeIndex(start=0, stop=5, step=1)"
      ]
     },
     "execution_count": 9,
     "metadata": {},
     "output_type": "execute_result"
    }
   ],
   "source": [
    "monoSeries.index"
   ]
  },
  {
   "cell_type": "code",
   "execution_count": 10,
   "id": "f759baaa",
   "metadata": {},
   "outputs": [
    {
     "data": {
      "text/plain": [
       "RangeIndex(start=0, stop=5, step=1)"
      ]
     },
     "execution_count": 10,
     "metadata": {},
     "output_type": "execute_result"
    }
   ],
   "source": [
    "monoSeries.keys()"
   ]
  },
  {
   "cell_type": "code",
   "execution_count": 11,
   "id": "9330ef76",
   "metadata": {},
   "outputs": [
    {
     "data": {
      "text/plain": [
       "array([ 1,  2,  4, 67, 99], dtype=int64)"
      ]
     },
     "execution_count": 11,
     "metadata": {},
     "output_type": "execute_result"
    }
   ],
   "source": [
    "monoSeries.values"
   ]
  },
  {
   "cell_type": "code",
   "execution_count": 13,
   "id": "b4db8070",
   "metadata": {},
   "outputs": [
    {
     "data": {
      "text/plain": [
       "[1, 2, 4, 67, 99]"
      ]
     },
     "execution_count": 13,
     "metadata": {},
     "output_type": "execute_result"
    }
   ],
   "source": [
    "monoSeries.tolist()"
   ]
  },
  {
   "cell_type": "code",
   "execution_count": 14,
   "id": "8f7a8238",
   "metadata": {},
   "outputs": [
    {
     "data": {
      "text/plain": [
       "0     11\n",
       "1     12\n",
       "2     14\n",
       "3     77\n",
       "4    109\n",
       "dtype: int64"
      ]
     },
     "execution_count": 14,
     "metadata": {},
     "output_type": "execute_result"
    }
   ],
   "source": [
    "monoSeries.add(10)"
   ]
  },
  {
   "cell_type": "code",
   "execution_count": 15,
   "id": "4858412e",
   "metadata": {},
   "outputs": [
    {
     "data": {
      "text/plain": [
       "0     1\n",
       "1     2\n",
       "2     4\n",
       "3    67\n",
       "4    99\n",
       "dtype: int64"
      ]
     },
     "execution_count": 15,
     "metadata": {},
     "output_type": "execute_result"
    }
   ],
   "source": [
    "monoSeries"
   ]
  },
  {
   "cell_type": "code",
   "execution_count": 16,
   "id": "0ad85f9e",
   "metadata": {},
   "outputs": [
    {
     "data": {
      "text/plain": [
       "0     11\n",
       "1     12\n",
       "2     14\n",
       "3     77\n",
       "4    109\n",
       "dtype: int64"
      ]
     },
     "execution_count": 16,
     "metadata": {},
     "output_type": "execute_result"
    }
   ],
   "source": [
    "newSeries=monoSeries.add(10)\n",
    "newSeries"
   ]
  },
  {
   "cell_type": "code",
   "execution_count": 17,
   "id": "2a2db8b4",
   "metadata": {},
   "outputs": [],
   "source": [
    "currencies=[\"USD\",\"EUR\",\"PLN\",\"EUR\",\"EUR\"]\n",
    "countries=[\"USA\",\"Spain\",\"Poland\",\"Portugal\",\"Italy\"]"
   ]
  },
  {
   "cell_type": "code",
   "execution_count": 18,
   "id": "ae0f608e",
   "metadata": {},
   "outputs": [
    {
     "data": {
      "text/plain": [
       "USD         USA\n",
       "EUR       Spain\n",
       "PLN      Poland\n",
       "EUR    Portugal\n",
       "EUR       Italy\n",
       "dtype: object"
      ]
     },
     "execution_count": 18,
     "metadata": {},
     "output_type": "execute_result"
    }
   ],
   "source": [
    "curSeries = pd.Series(countries,currencies)\n",
    "curSeries"
   ]
  },
  {
   "cell_type": "code",
   "execution_count": 19,
   "id": "478c4c06",
   "metadata": {},
   "outputs": [
    {
     "data": {
      "text/plain": [
       "USA         USD\n",
       "Spain       EUR\n",
       "Poland      PLN\n",
       "Portugal    EUR\n",
       "Italy       EUR\n",
       "dtype: object"
      ]
     },
     "execution_count": 19,
     "metadata": {},
     "output_type": "execute_result"
    }
   ],
   "source": [
    "curSeries = pd.Series(currencies,countries)\n",
    "curSeries"
   ]
  },
  {
   "cell_type": "code",
   "execution_count": 20,
   "id": "cc06bcd2",
   "metadata": {},
   "outputs": [
    {
     "data": {
      "text/plain": [
       "USD         USA\n",
       "EUR       Spain\n",
       "PLN      Poland\n",
       "EUR    Portugal\n",
       "EUR       Italy\n",
       "dtype: object"
      ]
     },
     "execution_count": 20,
     "metadata": {},
     "output_type": "execute_result"
    }
   ],
   "source": [
    "curSeries = pd.Series(data=countries, index=currencies)\n",
    "curSeries"
   ]
  },
  {
   "cell_type": "code",
   "execution_count": 21,
   "id": "5f9d75ce",
   "metadata": {},
   "outputs": [
    {
     "data": {
      "text/plain": [
       "USD         USA\n",
       "EUR       Spain\n",
       "PLN      Poland\n",
       "EUR    Portugal\n",
       "EUR       Italy\n",
       "dtype: object"
      ]
     },
     "execution_count": 21,
     "metadata": {},
     "output_type": "execute_result"
    }
   ],
   "source": [
    "curSeries = pd.Series(index=currencies,data=countries)\n",
    "curSeries\n",
    "#Parametry albo nazywamy albo pamiętamy kolejność. Najpierw jest index, potem data,\n",
    "#ale lepiej sobie napisać co jest indeksem a co danymi"
   ]
  },
  {
   "cell_type": "code",
   "execution_count": null,
   "id": "8f68c3d6",
   "metadata": {},
   "outputs": [],
   "source": []
  }
 ],
 "metadata": {
  "kernelspec": {
   "display_name": "Python 3",
   "language": "python",
   "name": "python3"
  },
  "language_info": {
   "codemirror_mode": {
    "name": "ipython",
    "version": 3
   },
   "file_extension": ".py",
   "mimetype": "text/x-python",
   "name": "python",
   "nbconvert_exporter": "python",
   "pygments_lexer": "ipython3",
   "version": "3.8.8"
  }
 },
 "nbformat": 4,
 "nbformat_minor": 5
}
